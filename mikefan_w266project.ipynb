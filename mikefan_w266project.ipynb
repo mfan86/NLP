{
  "nbformat": 4,
  "nbformat_minor": 0,
  "metadata": {
    "colab": {
      "name": "mikefan_w266project.ipynb",
      "provenance": [],
      "collapsed_sections": [],
      "toc_visible": true,
      "mount_file_id": "1SlslLt-6X08CN-jIIz7LTslPEu5P9pyF",
      "authorship_tag": "ABX9TyNfh5nlOgkCRZPv1l2Rlm75",
      "include_colab_link": true
    },
    "kernelspec": {
      "name": "python3",
      "display_name": "Python 3"
    },
    "accelerator": "TPU"
  },
  "cells": [
    {
      "cell_type": "markdown",
      "metadata": {
        "id": "view-in-github",
        "colab_type": "text"
      },
      "source": [
        "<a href=\"https://colab.research.google.com/github/mfan86/w266/blob/main/mikefan_w266project.ipynb\" target=\"_parent\"><img src=\"https://colab.research.google.com/assets/colab-badge.svg\" alt=\"Open In Colab\"/></a>"
      ]
    },
    {
      "cell_type": "code",
      "metadata": {
        "id": "J41v1v_KgQ34",
        "colab": {
          "base_uri": "https://localhost:8080/",
          "height": 51
        },
        "outputId": "ec22413e-826f-43bd-dcfd-cb00a2ef9920"
      },
      "source": [
        "import tensorflow as tf\r\n",
        "import numpy as np\r\n",
        "import pandas as pd\r\n",
        "from tqdm import tqdm\r\n",
        "import math\r\n",
        "import string\r\n",
        "import random\r\n",
        "import time\r\n",
        "import os\r\n",
        "os.environ['PYTHONHASHSEED'] = '11'\r\n",
        "np.random.seed(22)\r\n",
        "random.seed(33)\r\n",
        "\r\n",
        "import matplotlib.pyplot as plt\r\n",
        "%matplotlib inline\r\n",
        "plt.rcParams['figure.figsize'] = [20.0, 7.0]\r\n",
        "plt.rcParams.update({'font.size': 22,})\r\n",
        "\r\n",
        "import seaborn as sns\r\n",
        "sns.set_palette('viridis')\r\n",
        "sns.set_style('white')\r\n",
        "sns.set_context('talk', font_scale=0.8)\r\n",
        "\r\n",
        "import spacy\r\n",
        "import nltk\r\n",
        "import re\r\n",
        "\r\n",
        "from plotly.subplots import make_subplots\r\n",
        "import plotly.offline as py\r\n",
        "py.init_notebook_mode(connected=True)\r\n",
        "import plotly.graph_objs as go\r\n",
        "\r\n",
        "from nltk.corpus import stopwords\r\n",
        "nltk.download('stopwords')\r\n",
        "from collections import Counter\r\n",
        "\r\n",
        "from sklearn.model_selection import train_test_split\r\n",
        "from sklearn import metrics\r\n",
        "from sklearn.model_selection import GridSearchCV, StratifiedKFold\r\n",
        "from sklearn.metrics import f1_score, roc_auc_score\r\n",
        "\r\n",
        "from keras.preprocessing.text import Tokenizer\r\n",
        "from keras.preprocessing.sequence import pad_sequences\r\n",
        "from keras.layers import Dense, Input, Embedding, Dropout, Activation, Conv1D\r\n",
        "from keras.layers import Bidirectional, GlobalMaxPool1D, GlobalMaxPooling1D, GlobalAveragePooling1D\r\n",
        "from keras.layers import Input, Embedding, Dense, Conv2D, MaxPool2D, concatenate\r\n",
        "from keras.layers import Reshape, Flatten, Concatenate, Dropout, SpatialDropout1D\r\n",
        "from keras.optimizers import Adam\r\n",
        "from keras.models import Model\r\n",
        "from keras import backend as K\r\n",
        "from keras.engine.topology import Layer\r\n",
        "from keras import initializers, regularizers, constraints, optimizers, layers\r\n",
        "from keras.layers import concatenate\r\n",
        "from keras.callbacks import *"
      ],
      "execution_count": 69,
      "outputs": [
        {
          "output_type": "display_data",
          "data": {
            "text/html": [
              "        <script type=\"text/javascript\">\n",
              "        window.PlotlyConfig = {MathJaxConfig: 'local'};\n",
              "        if (window.MathJax) {MathJax.Hub.Config({SVG: {font: \"STIX-Web\"}});}\n",
              "        if (typeof require !== 'undefined') {\n",
              "        require.undef(\"plotly\");\n",
              "        requirejs.config({\n",
              "            paths: {\n",
              "                'plotly': ['https://cdn.plot.ly/plotly-latest.min']\n",
              "            }\n",
              "        });\n",
              "        require(['plotly'], function(Plotly) {\n",
              "            window._Plotly = Plotly;\n",
              "        });\n",
              "        }\n",
              "        </script>\n",
              "        "
            ]
          },
          "metadata": {
            "tags": []
          }
        },
        {
          "output_type": "stream",
          "text": [
            "[nltk_data] Downloading package stopwords to /root/nltk_data...\n",
            "[nltk_data]   Unzipping corpora/stopwords.zip.\n"
          ],
          "name": "stdout"
        }
      ]
    },
    {
      "cell_type": "markdown",
      "metadata": {
        "id": "LimK3HubtXXI"
      },
      "source": [
        "# Load Data"
      ]
    },
    {
      "cell_type": "code",
      "metadata": {
        "colab": {
          "base_uri": "https://localhost:8080/",
          "height": 238
        },
        "id": "HjFqAi1SteZG",
        "outputId": "c50d1ade-239b-46fa-e314-b3d76460d506"
      },
      "source": [
        "train_df = pd.read_csv(\"/content/drive/MyDrive/W266 NLP/Project/train.csv\")\r\n",
        "test_df = pd.read_csv(\"/content/drive/MyDrive/W266 NLP/Project/test.csv\")\r\n",
        "print(\"Train shape : \",train_df.shape)\r\n",
        "print(\"Test shape : \",test_df.shape)\r\n",
        "train_df.head()"
      ],
      "execution_count": 8,
      "outputs": [
        {
          "output_type": "stream",
          "text": [
            "Train shape :  (1306122, 3)\n",
            "Test shape :  (375806, 2)\n"
          ],
          "name": "stdout"
        },
        {
          "output_type": "execute_result",
          "data": {
            "text/html": [
              "<div>\n",
              "<style scoped>\n",
              "    .dataframe tbody tr th:only-of-type {\n",
              "        vertical-align: middle;\n",
              "    }\n",
              "\n",
              "    .dataframe tbody tr th {\n",
              "        vertical-align: top;\n",
              "    }\n",
              "\n",
              "    .dataframe thead th {\n",
              "        text-align: right;\n",
              "    }\n",
              "</style>\n",
              "<table border=\"1\" class=\"dataframe\">\n",
              "  <thead>\n",
              "    <tr style=\"text-align: right;\">\n",
              "      <th></th>\n",
              "      <th>qid</th>\n",
              "      <th>question_text</th>\n",
              "      <th>target</th>\n",
              "    </tr>\n",
              "  </thead>\n",
              "  <tbody>\n",
              "    <tr>\n",
              "      <th>0</th>\n",
              "      <td>00002165364db923c7e6</td>\n",
              "      <td>How did Quebec nationalists see their province...</td>\n",
              "      <td>0</td>\n",
              "    </tr>\n",
              "    <tr>\n",
              "      <th>1</th>\n",
              "      <td>000032939017120e6e44</td>\n",
              "      <td>Do you have an adopted dog, how would you enco...</td>\n",
              "      <td>0</td>\n",
              "    </tr>\n",
              "    <tr>\n",
              "      <th>2</th>\n",
              "      <td>0000412ca6e4628ce2cf</td>\n",
              "      <td>Why does velocity affect time? Does velocity a...</td>\n",
              "      <td>0</td>\n",
              "    </tr>\n",
              "    <tr>\n",
              "      <th>3</th>\n",
              "      <td>000042bf85aa498cd78e</td>\n",
              "      <td>How did Otto von Guericke used the Magdeburg h...</td>\n",
              "      <td>0</td>\n",
              "    </tr>\n",
              "    <tr>\n",
              "      <th>4</th>\n",
              "      <td>0000455dfa3e01eae3af</td>\n",
              "      <td>Can I convert montra helicon D to a mountain b...</td>\n",
              "      <td>0</td>\n",
              "    </tr>\n",
              "  </tbody>\n",
              "</table>\n",
              "</div>"
            ],
            "text/plain": [
              "                    qid  ... target\n",
              "0  00002165364db923c7e6  ...      0\n",
              "1  000032939017120e6e44  ...      0\n",
              "2  0000412ca6e4628ce2cf  ...      0\n",
              "3  000042bf85aa498cd78e  ...      0\n",
              "4  0000455dfa3e01eae3af  ...      0\n",
              "\n",
              "[5 rows x 3 columns]"
            ]
          },
          "metadata": {
            "tags": []
          },
          "execution_count": 8
        }
      ]
    },
    {
      "cell_type": "markdown",
      "metadata": {
        "id": "KifGNUNTtqdQ"
      },
      "source": [
        "# EDA"
      ]
    },
    {
      "cell_type": "markdown",
      "metadata": {
        "id": "j_z8w5681tSL"
      },
      "source": [
        "Class Imbalance\r\n",
        "\r\n",
        "---\r\n",
        "\r\n",
        "\r\n",
        "Imbalanced classes are a common problem in machine learning classification where there are a disproportionate ratio of observations in each class. With just 6.6% of our dataset belonging to the target class, we can definitely have an imbalanced class.\r\n",
        "\r\n",
        "This is a problem because many machine learning models are designed to maximize overall accuracy, which especially with imbalanced classes may not be the best metric to use. Classification accuracy is defined as the number of correct predictions divided by total predictions times 100. For example, if we simply predicted that all questions are sincere, we would get a classification acuracy score of 93%.\r\n",
        "\r\n",
        "Thus, we will use the F1-score as the evaluation metric as it balances between precision and recall:\r\n",
        "\r\n",
        "\r\n",
        "*   Precision is the number of true positives divided by all positive predictions. It's a measure of a classifier's exactness where low precision indicates a high number of false positives\r\n",
        "*   Recall is the number of true positives divided by the number of positive values in the test data. It is a measure of a classifier's completeness where ow recall indicates a high number of false negatives"
      ]
    },
    {
      "cell_type": "code",
      "metadata": {
        "colab": {
          "base_uri": "https://localhost:8080/"
        },
        "id": "CYZtYy5Yxiu9",
        "outputId": "ece3f51d-d8b9-429d-c732-b54e2132fc64"
      },
      "source": [
        "sin = len(train_df[train_df[\"target\"]==0])\r\n",
        "insin = len(train_df[train_df[\"target\"]==1])\r\n",
        "persin = (sin/(sin+insin))*100\r\n",
        "perinsin = (insin/(sin+insin))*100            \r\n",
        "print(\"Count of Sincere questions is {:,} ({:.2f}%) and count of Insincere questions is {:,} ({:.2f}%)\".format(sin,persin,insin,perinsin))\r\n",
        "#print(\"# Test samples: {:,}({:.3f}% of train samples)\".format(len(test_df),len(test_df)/len(train_df)))"
      ],
      "execution_count": 24,
      "outputs": [
        {
          "output_type": "stream",
          "text": [
            "Count of Sincere questions is 1,225,312 (93.81%) and count of Insincere questions is 80,810 (6.19%)\n"
          ],
          "name": "stdout"
        }
      ]
    },
    {
      "cell_type": "code",
      "metadata": {
        "colab": {
          "base_uri": "https://localhost:8080/"
        },
        "id": "sHZzL5Do3UN3",
        "outputId": "c3e75983-f7cd-4350-f1a5-99d0efd20a75"
      },
      "source": [
        "print('Average word length of questions in train is {0:.0f}'.format(np.mean(train_df['question_text'].apply(lambda x: len(x.split())))))\r\n",
        "print('Average word length of questions in test is {0:.0f}'.format(np.mean(test_df['question_text'].apply(lambda x: len(x.split())))))"
      ],
      "execution_count": 12,
      "outputs": [
        {
          "output_type": "stream",
          "text": [
            "Average word length of questions in train is 13.\n",
            "Average word length of questions in test is 13.\n"
          ],
          "name": "stdout"
        }
      ]
    },
    {
      "cell_type": "code",
      "metadata": {
        "colab": {
          "base_uri": "https://localhost:8080/"
        },
        "id": "I1CKgUvl623U",
        "outputId": "e1d309e9-7b63-4f52-8321-d5c63ab6d614"
      },
      "source": [
        "print('Max word length of questions in train is {0:.0f}'.format(np.max(train_df['question_text'].apply(lambda x: len(x.split())))))\r\n",
        "print('Max word length of questions in test is {0:.0f}'.format(np.max(test_df['question_text'].apply(lambda x: len(x.split())))))"
      ],
      "execution_count": 25,
      "outputs": [
        {
          "output_type": "stream",
          "text": [
            "Max word length of questions in train is 134.\n",
            "Max word length of questions in test is 87.\n"
          ],
          "name": "stdout"
        }
      ]
    },
    {
      "cell_type": "code",
      "metadata": {
        "colab": {
          "base_uri": "https://localhost:8080/"
        },
        "id": "F5aPS6-I7_G0",
        "outputId": "90251126-180a-4c61-a894-698de221c20b"
      },
      "source": [
        "print('Average character length of questions in train is {0:.0f}'.format(np.mean(train_df['question_text'].apply(lambda x: len(x)))))\r\n",
        "print('Average character length of questions in test is {0:.0f}'.format(np.mean(test_df['question_text'].apply(lambda x: len(x)))))"
      ],
      "execution_count": 26,
      "outputs": [
        {
          "output_type": "stream",
          "text": [
            "Average character length of questions in train is 71.\n",
            "Average character length of questions in test is 71.\n"
          ],
          "name": "stdout"
        }
      ]
    },
    {
      "cell_type": "code",
      "metadata": {
        "colab": {
          "base_uri": "https://localhost:8080/"
        },
        "id": "usSPtJnDW1SA",
        "outputId": "05240ace-19a2-443d-bfa5-98d8e3ae2a50"
      },
      "source": [
        "print('Count of unique words in train is {:,}'.format(np.sum(train_df[\"question_text\"].apply(lambda x: len(str(x).split())))))\r\n",
        "print('Count of unique words in test is {:,}'.format(np.sum(test_df[\"question_text\"].apply(lambda x: len(str(x).split())))))"
      ],
      "execution_count": 89,
      "outputs": [
        {
          "output_type": "stream",
          "text": [
            "Count of unique words in train is 16,723,076.\n",
            "Count of unique words in test is 4,814,391.\n"
          ],
          "name": "stdout"
        }
      ]
    },
    {
      "cell_type": "code",
      "metadata": {
        "colab": {
          "base_uri": "https://localhost:8080/"
        },
        "id": "-v3Pr5dLb1zn",
        "outputId": "d28aab5a-b202-4693-bfc5-230052067558"
      },
      "source": [
        "stop_words = set(stopwords.words('english')) #from nltk\r\n",
        "print('Count of stop words in train is {:,}'.format(np.sum(train_df[\"question_text\"].apply(lambda x: len([w for w in str(x).lower().split() if w in stop_words])))))\r\n",
        "print('Count of stop words in test is {:,}'.format(np.sum(test_df[\"question_text\"].apply(lambda x: len([w for w in str(x).lower().split() if w in stop_words])))))"
      ],
      "execution_count": 92,
      "outputs": [
        {
          "output_type": "stream",
          "text": [
            "Count of stop words in train is 8,047,469\n",
            "Count of stop words in test is 2,316,645\n"
          ],
          "name": "stdout"
        }
      ]
    },
    {
      "cell_type": "code",
      "metadata": {
        "colab": {
          "base_uri": "https://localhost:8080/"
        },
        "id": "WLOIoEx1d9OZ",
        "outputId": "0d9575f4-5f35-4ac7-db7e-b0b8f8d79c8e"
      },
      "source": [
        "print('Count of punctuations in train is {:,}'.format(np.sum(train_df[\"question_text\"].apply(lambda x: len([c for c in str(x) if c in string.punctuation])))))\r\n",
        "print('Count of punctuations in test is {:,}'.format(np.sum(test_df[\"question_text\"].apply(lambda x: len([c for c in str(x) if c in string.punctuation])))))"
      ],
      "execution_count": 94,
      "outputs": [
        {
          "output_type": "stream",
          "text": [
            "Count of punctuations in train is 2,281,132\n",
            "Count of punctuations in test is 655,266\n"
          ],
          "name": "stdout"
        }
      ]
    },
    {
      "cell_type": "code",
      "metadata": {
        "colab": {
          "base_uri": "https://localhost:8080/",
          "height": 522
        },
        "id": "fFm32k9Y_Y8d",
        "outputId": "ca54f998-3ae5-4b7b-c9df-894e7690dc1f"
      },
      "source": [
        "# show distribution of questions in dataset\r\n",
        "fig, ax = plt.subplots()\r\n",
        "g = sns.countplot(train_df.target, palette='viridis')\r\n",
        "g.set_xticklabels(['Sincere', 'Insincere'])\r\n",
        "g.set_yticklabels([])\r\n",
        "\r\n",
        "# function to show values on bars\r\n",
        "def show_values_on_bars(axs):\r\n",
        "    def _show_on_single_plot(ax):        \r\n",
        "        for p in ax.patches:\r\n",
        "            _x = p.get_x() + p.get_width() / 2\r\n",
        "            _y = p.get_y() + p.get_height()\r\n",
        "            value = '{:.0f}'.format(p.get_height())\r\n",
        "            ax.text(_x, _y, value, ha=\"center\") \r\n",
        "\r\n",
        "    if isinstance(axs, np.ndarray):\r\n",
        "        for idx, ax in np.ndenumerate(axs):\r\n",
        "            _show_on_single_plot(ax)\r\n",
        "    else:\r\n",
        "        _show_on_single_plot(axs)\r\n",
        "show_values_on_bars(ax)\r\n",
        "\r\n",
        "sns.despine(left=True, bottom=True)\r\n",
        "plt.xlabel('')\r\n",
        "plt.ylabel('')\r\n",
        "plt.title('Distribution of Questions', fontsize=30)\r\n",
        "plt.tick_params(axis='x', which='major', labelsize=15)\r\n",
        "plt.show()"
      ],
      "execution_count": 30,
      "outputs": [
        {
          "output_type": "stream",
          "text": [
            "/usr/local/lib/python3.6/dist-packages/seaborn/_decorators.py:43: FutureWarning: Pass the following variable as a keyword arg: x. From version 0.12, the only valid positional argument will be `data`, and passing other arguments without an explicit keyword will result in an error or misinterpretation.\n",
            "  FutureWarning\n"
          ],
          "name": "stderr"
        },
        {
          "output_type": "display_data",
          "data": {
            "image/png": "[encoded data removed]",
            "text/plain": [
              "<Figure size 1440x504 with 1 Axes>"
            ]
          },
          "metadata": {
            "tags": []
          }
        }
      ]
    },
    {
      "cell_type": "code",
      "metadata": {
        "colab": {
          "base_uri": "https://localhost:8080/",
          "height": 454
        },
        "id": "q8AbB1t8gxX1",
        "outputId": "79a7ae2e-a529-44cb-ffdd-e1a2cae648aa"
      },
      "source": [
        "# distribution of question length in words\r\n",
        "max_features = 90000\r\n",
        "tk = Tokenizer(lower = True, filters='', num_words=max_features)\r\n",
        "full_text = list(train_df['question_text'].values) + list(test_df['question_text'].values)\r\n",
        "tk.fit_on_texts(full_text)\r\n",
        "\r\n",
        "train_tokenized = tk.texts_to_sequences(train_df['question_text'].fillna('missing'))\r\n",
        "test_tokenized = tk.texts_to_sequences(test_df['question_text'].fillna('missing'))\r\n",
        "\r\n",
        "train_df['question_text'].apply(lambda x: len(x.split())).plot(kind='hist');\r\n",
        "plt.yscale('log');\r\n",
        "plt.title('Distribution of question text length in words')\r\n",
        "plt.show()"
      ],
      "execution_count": 101,
      "outputs": [
        {
          "output_type": "display_data",
          "data": {
            "image/png": "[encoded data removed]",
            "text/plain": [
              "<Figure size 1440x504 with 1 Axes>"
            ]
          },
          "metadata": {
            "tags": []
          }
        }
      ]
    },
    {
      "cell_type": "markdown",
      "metadata": {
        "id": "P2iP6Ih5irdg"
      },
      "source": [
        "**Observations:**\r\n",
        "* Most of the questions are 40 words or less\r\n",
        "* There are outliers with relaively long questions in the 100-120 word length\r\n",
        "* Weighted attention mechanism with Bi-directional LSTM maybe needed to handle long questions with multiple sentences"
      ]
    },
    {
      "cell_type": "code",
      "metadata": {
        "colab": {
          "base_uri": "https://localhost:8080/",
          "height": 1000
        },
        "id": "JXfxQO2aHhrt",
        "outputId": "561a95e8-806b-4adb-81ce-bf73895ebf97"
      },
      "source": [
        "from collections import defaultdict\r\n",
        "\r\n",
        "train1_df = train_df[train_df[\"target\"]==1]\r\n",
        "train0_df = train_df[train_df[\"target\"]==0]\r\n",
        "\r\n",
        "# custom function for ngram generation\r\n",
        "def generate_ngrams(text, n_gram=1):\r\n",
        "    token = [token for token in text.lower().split(\" \") if token != \"\" if token not in stop_words]\r\n",
        "    ngrams = zip(*[token[i:] for i in range(n_gram)])\r\n",
        "    return [\" \".join(ngram) for ngram in ngrams]\r\n",
        "\r\n",
        "# custom function for horizontal bar chart\r\n",
        "def horizontal_bar_chart(df, color):\r\n",
        "    trace = go.Bar(\r\n",
        "        y=df[\"word\"].values[::-1],\r\n",
        "        x=df[\"wordcount\"].values[::-1],\r\n",
        "        showlegend=False,\r\n",
        "        orientation = 'h',\r\n",
        "        marker=dict(\r\n",
        "            color=color,\r\n",
        "        ),\r\n",
        "    )\r\n",
        "    return trace\r\n",
        "\r\n",
        "# get the bar chart from sincere questions\r\n",
        "freq_dict = defaultdict(int)\r\n",
        "for sent in train0_df[\"question_text\"]:\r\n",
        "    for word in generate_ngrams(sent):\r\n",
        "        freq_dict[word] += 1\r\n",
        "fd_sorted = pd.DataFrame(sorted(freq_dict.items(), key=lambda x: x[1])[::-1])\r\n",
        "fd_sorted.columns = [\"word\", \"wordcount\"]\r\n",
        "trace0 = horizontal_bar_chart(fd_sorted.head(50), 'blue')\r\n",
        "\r\n",
        "# get the bar chart from insincere questions\r\n",
        "freq_dict = defaultdict(int)\r\n",
        "for sent in train1_df[\"question_text\"]:\r\n",
        "    for word in generate_ngrams(sent):\r\n",
        "        freq_dict[word] += 1\r\n",
        "fd_sorted = pd.DataFrame(sorted(freq_dict.items(), key=lambda x: x[1])[::-1])\r\n",
        "fd_sorted.columns = [\"word\", \"wordcount\"]\r\n",
        "trace1 = horizontal_bar_chart(fd_sorted.head(50), 'blue')\r\n",
        "\r\n",
        "# create two subplots\r\n",
        "fig = make_subplots(rows=1, cols=2, vertical_spacing=0.04,\r\n",
        "                          subplot_titles=[\"Frequent words of sincere questions\", \r\n",
        "                                          \"Frequent words of insincere questions\"])\r\n",
        "fig.append_trace(trace0, 1, 1)\r\n",
        "fig.append_trace(trace1, 1, 2)\r\n",
        "fig['layout'].update(height=1200, width=2000, title=\"Unigram Word Count\", title_x=0.5)\r\n",
        "\r\n",
        "fig.show(renderer=\"colab\")"
      ],
      "execution_count": 80,
      "outputs": [
        {
          "output_type": "display_data",
          "data": {
            "text/html": [
              "<html>\n",
              "<head><meta charset=\"utf-8\" /></head>\n",
              "<body>\n",
              "    <div>\n",
              "            <script src=\"https://cdnjs.cloudflare.com/ajax/libs/mathjax/2.7.5/MathJax.js?config=TeX-AMS-MML_SVG\"></script><script type=\"text/javascript\">if (window.MathJax) {MathJax.Hub.Config({SVG: {font: \"STIX-Web\"}});}</script>\n",
              "                <script type=\"text/javascript\">window.PlotlyConfig = {MathJaxConfig: 'local'};</script>\n",
              "        <script src=\"https://cdn.plot.ly/plotly-latest.min.js\"></script>    \n",
              "            <div id=\"b1d84b97-23c2-46e4-a4a2-d048fcbbac87\" class=\"plotly-graph-div\" style=\"height:1200px; width:2000px;\"></div>\n",
              "            <script type=\"text/javascript\">\n",
              "                \n",
              "                    window.PLOTLYENV=window.PLOTLYENV || {};\n",
              "                    \n",
              "                if (document.getElementById(\"b1d84b97-23c2-46e4-a4a2-d048fcbbac87\")) {\n",
              "                    Plotly.newPlot(\n",
              "                        'b1d84b97-23c2-46e4-a4a2-d048fcbbac87',\n",
              "                        [{\"marker\": {\"color\": \"blue\"}, \"orientation\": \"h\", \"showlegend\": false, \"type\": \"bar\", \"x\": [9938, 10063, 10148, 10524, 10533, 10562, 10709, 10958, 11090, 11184, 11507, 11653, 11940, 11998, 12026, 12028, 12071, 12146, 12238, 12501, 12552, 12857, 12996, 13319, 13368, 14260, 15089, 15140, 15536, 15545, 15781, 15941, 15985, 16508, 16743, 17118, 18073, 19250, 19728, 20108, 20788, 21641, 25696, 28840, 34827, 37618, 37960, 57105, 58731, 60816], \"xaxis\": \"x\", \"y\": [\"indian\", \"long\", \"really\", \"us\", \"learn\", \"year\", \"still\", \"job\", \"different\", \"first\", \"start\", \"india\", \"used\", \"difference\", \"person\", \"need\", \"i'm\", \"life\", \"it?\", \"better\", \"possible\", \"go\", \"what's\", \"work\", \"new\", \"feel\", \"time\", \"could\", \"india?\", \"without\", \"become\", \"want\", \"ever\", \"find\", \"take\", \"know\", \"way\", \"use\", \"someone\", \"much\", \"many\", \"think\", \"make\", \"one\", \"good\", \"like\", \"people\", \"would\", \"get\", \"best\"], \"yaxis\": \"y\"}, {\"marker\": {\"color\": \"blue\"}, \"orientation\": \"h\", \"showlegend\": false, \"type\": \"bar\", \"x\": [1090, 1106, 1119, 1150, 1167, 1179, 1218, 1243, 1246, 1255, 1259, 1321, 1360, 1382, 1461, 1483, 1495, 1497, 1515, 1537, 1572, 1588, 1618, 1639, 1776, 1834, 1887, 1937, 2043, 2048, 2122, 2123, 2171, 2298, 2343, 2478, 2549, 2672, 2828, 2984, 3152, 3177, 3351, 3552, 3774, 4126, 4757, 4893, 5708, 11036], \"xaxis\": \"x2\", \"y\": [\"since\", \"become\", \"country\", \"democrats\", \"take\", \"ever\", \"always\", \"president\", \"can't\", \"people?\", \"good\", \"true\", \"still\", \"say\", \"really\", \"world\", \"believe\", \"donald\", \"know\", \"much\", \"feel\", \"one\", \"american\", \"muslim\", \"even\", \"chinese\", \"liberals\", \"make\", \"india\", \"sex\", \"indians\", \"girls\", \"hate\", \"us\", \"want\", \"americans\", \"quora\", \"black\", \"muslims\", \"indian\", \"men\", \"get\", \"white\", \"many\", \"think\", \"would\", \"women\", \"trump\", \"like\", \"people\"], \"yaxis\": \"y2\"}],\n",
              "                        {\"annotations\": [{\"font\": {\"size\": 16}, \"showarrow\": false, \"text\": \"Frequent words of sincere questions\", \"x\": 0.225, \"xanchor\": \"center\", \"xref\": \"paper\", \"y\": 1.0, \"yanchor\": \"bottom\", \"yref\": \"paper\"}, {\"font\": {\"size\": 16}, \"showarrow\": false, \"text\": \"Frequent words of insincere questions\", \"x\": 0.775, \"xanchor\": \"center\", \"xref\": \"paper\", \"y\": 1.0, \"yanchor\": \"bottom\", \"yref\": \"paper\"}], \"height\": 1200, \"template\": {\"data\": {\"bar\": [{\"error_x\": {\"color\": \"#2a3f5f\"}, \"error_y\": {\"color\": \"#2a3f5f\"}, \"marker\": {\"line\": {\"color\": \"#E5ECF6\", \"width\": 0.5}}, \"type\": \"bar\"}], \"barpolar\": [{\"marker\": {\"line\": {\"color\": \"#E5ECF6\", \"width\": 0.5}}, \"type\": \"barpolar\"}], \"carpet\": [{\"aaxis\": {\"endlinecolor\": \"#2a3f5f\", \"gridcolor\": \"white\", \"linecolor\": \"white\", \"minorgridcolor\": \"white\", \"startlinecolor\": \"#2a3f5f\"}, \"baxis\": {\"endlinecolor\": \"#2a3f5f\", \"gridcolor\": \"white\", \"linecolor\": \"white\", \"minorgridcolor\": \"white\", \"startlinecolor\": \"#2a3f5f\"}, \"type\": \"carpet\"}], \"choropleth\": [{\"colorbar\": {\"outlinewidth\": 0, \"ticks\": \"\"}, \"type\": \"choropleth\"}], \"contour\": [{\"colorbar\": {\"outlinewidth\": 0, \"ticks\": \"\"}, \"colorscale\": [[0.0, \"#0d0887\"], [0.1111111111111111, \"#46039f\"], [0.2222222222222222, \"#7201a8\"], [0.3333333333333333, \"#9c179e\"], [0.4444444444444444, \"#bd3786\"], [0.5555555555555556, \"#d8576b\"], [0.6666666666666666, \"#ed7953\"], [0.7777777777777778, \"#fb9f3a\"], [0.8888888888888888, \"#fdca26\"], [1.0, \"#f0f921\"]], \"type\": \"contour\"}], \"contourcarpet\": [{\"colorbar\": {\"outlinewidth\": 0, \"ticks\": \"\"}, \"type\": \"contourcarpet\"}], \"heatmap\": [{\"colorbar\": {\"outlinewidth\": 0, \"ticks\": \"\"}, \"colorscale\": [[0.0, \"#0d0887\"], [0.1111111111111111, \"#46039f\"], [0.2222222222222222, \"#7201a8\"], [0.3333333333333333, \"#9c179e\"], [0.4444444444444444, \"#bd3786\"], [0.5555555555555556, \"#d8576b\"], [0.6666666666666666, \"#ed7953\"], [0.7777777777777778, \"#fb9f3a\"], [0.8888888888888888, \"#fdca26\"], [1.0, \"#f0f921\"]], \"type\": \"heatmap\"}], \"heatmapgl\": [{\"colorbar\": {\"outlinewidth\": 0, \"ticks\": \"\"}, \"colorscale\": [[0.0, \"#0d0887\"], [0.1111111111111111, \"#46039f\"], [0.2222222222222222, \"#7201a8\"], [0.3333333333333333, \"#9c179e\"], [0.4444444444444444, \"#bd3786\"], [0.5555555555555556, \"#d8576b\"], [0.6666666666666666, \"#ed7953\"], [0.7777777777777778, \"#fb9f3a\"], [0.8888888888888888, \"#fdca26\"], [1.0, \"#f0f921\"]], \"type\": \"heatmapgl\"}], \"histogram\": [{\"marker\": {\"colorbar\": {\"outlinewidth\": 0, \"ticks\": \"\"}}, \"type\": \"histogram\"}], \"histogram2d\": [{\"colorbar\": {\"outlinewidth\": 0, \"ticks\": \"\"}, \"colorscale\": [[0.0, \"#0d0887\"], [0.1111111111111111, \"#46039f\"], [0.2222222222222222, \"#7201a8\"], [0.3333333333333333, \"#9c179e\"], [0.4444444444444444, \"#bd3786\"], [0.5555555555555556, \"#d8576b\"], [0.6666666666666666, \"#ed7953\"], [0.7777777777777778, \"#fb9f3a\"], [0.8888888888888888, \"#fdca26\"], [1.0, \"#f0f921\"]], \"type\": \"histogram2d\"}], \"histogram2dcontour\": [{\"colorbar\": {\"outlinewidth\": 0, \"ticks\": \"\"}, \"colorscale\": [[0.0, \"#0d0887\"], [0.1111111111111111, \"#46039f\"], [0.2222222222222222, \"#7201a8\"], [0.3333333333333333, \"#9c179e\"], [0.4444444444444444, \"#bd3786\"], [0.5555555555555556, \"#d8576b\"], [0.6666666666666666, \"#ed7953\"], [0.7777777777777778, \"#fb9f3a\"], [0.8888888888888888, \"#fdca26\"], [1.0, \"#f0f921\"]], \"type\": \"histogram2dcontour\"}], \"mesh3d\": [{\"colorbar\": {\"outlinewidth\": 0, \"ticks\": \"\"}, \"type\": \"mesh3d\"}], \"parcoords\": [{\"line\": {\"colorbar\": {\"outlinewidth\": 0, \"ticks\": \"\"}}, \"type\": \"parcoords\"}], \"pie\": [{\"automargin\": true, \"type\": \"pie\"}], \"scatter\": [{\"marker\": {\"colorbar\": {\"outlinewidth\": 0, \"ticks\": \"\"}}, \"type\": \"scatter\"}], \"scatter3d\": [{\"line\": {\"colorbar\": {\"outlinewidth\": 0, \"ticks\": \"\"}}, \"marker\": {\"colorbar\": {\"outlinewidth\": 0, \"ticks\": \"\"}}, \"type\": \"scatter3d\"}], \"scattercarpet\": [{\"marker\": {\"colorbar\": {\"outlinewidth\": 0, \"ticks\": \"\"}}, \"type\": \"scattercarpet\"}], \"scattergeo\": [{\"marker\": {\"colorbar\": {\"outlinewidth\": 0, \"ticks\": \"\"}}, \"type\": \"scattergeo\"}], \"scattergl\": [{\"marker\": {\"colorbar\": {\"outlinewidth\": 0, \"ticks\": \"\"}}, \"type\": \"scattergl\"}], \"scattermapbox\": [{\"marker\": {\"colorbar\": {\"outlinewidth\": 0, \"ticks\": \"\"}}, \"type\": \"scattermapbox\"}], \"scatterpolar\": [{\"marker\": {\"colorbar\": {\"outlinewidth\": 0, \"ticks\": \"\"}}, \"type\": \"scatterpolar\"}], \"scatterpolargl\": [{\"marker\": {\"colorbar\": {\"outlinewidth\": 0, \"ticks\": \"\"}}, \"type\": \"scatterpolargl\"}], \"scatterternary\": [{\"marker\": {\"colorbar\": {\"outlinewidth\": 0, \"ticks\": \"\"}}, \"type\": \"scatterternary\"}], \"surface\": [{\"colorbar\": {\"outlinewidth\": 0, \"ticks\": \"\"}, \"colorscale\": [[0.0, \"#0d0887\"], [0.1111111111111111, \"#46039f\"], [0.2222222222222222, \"#7201a8\"], [0.3333333333333333, \"#9c179e\"], [0.4444444444444444, \"#bd3786\"], [0.5555555555555556, \"#d8576b\"], [0.6666666666666666, \"#ed7953\"], [0.7777777777777778, \"#fb9f3a\"], [0.8888888888888888, \"#fdca26\"], [1.0, \"#f0f921\"]], \"type\": \"surface\"}], \"table\": [{\"cells\": {\"fill\": {\"color\": \"#EBF0F8\"}, \"line\": {\"color\": \"white\"}}, \"header\": {\"fill\": {\"color\": \"#C8D4E3\"}, \"line\": {\"color\": \"white\"}}, \"type\": \"table\"}]}, \"layout\": {\"annotationdefaults\": {\"arrowcolor\": \"#2a3f5f\", \"arrowhead\": 0, \"arrowwidth\": 1}, \"coloraxis\": {\"colorbar\": {\"outlinewidth\": 0, \"ticks\": \"\"}}, \"colorscale\": {\"diverging\": [[0, \"#8e0152\"], [0.1, \"#c51b7d\"], [0.2, \"#de77ae\"], [0.3, \"#f1b6da\"], [0.4, \"#fde0ef\"], [0.5, \"#f7f7f7\"], [0.6, \"#e6f5d0\"], [0.7, \"#b8e186\"], [0.8, \"#7fbc41\"], [0.9, \"#4d9221\"], [1, \"#276419\"]], \"sequential\": [[0.0, \"#0d0887\"], [0.1111111111111111, \"#46039f\"], [0.2222222222222222, \"#7201a8\"], [0.3333333333333333, \"#9c179e\"], [0.4444444444444444, \"#bd3786\"], [0.5555555555555556, \"#d8576b\"], [0.6666666666666666, \"#ed7953\"], [0.7777777777777778, \"#fb9f3a\"], [0.8888888888888888, \"#fdca26\"], [1.0, \"#f0f921\"]], \"sequentialminus\": [[0.0, \"#0d0887\"], [0.1111111111111111, \"#46039f\"], [0.2222222222222222, \"#7201a8\"], [0.3333333333333333, \"#9c179e\"], [0.4444444444444444, \"#bd3786\"], [0.5555555555555556, \"#d8576b\"], [0.6666666666666666, \"#ed7953\"], [0.7777777777777778, \"#fb9f3a\"], [0.8888888888888888, \"#fdca26\"], [1.0, \"#f0f921\"]]}, \"colorway\": [\"#636efa\", \"#EF553B\", \"#00cc96\", \"#ab63fa\", \"#FFA15A\", \"#19d3f3\", \"#FF6692\", \"#B6E880\", \"#FF97FF\", \"#FECB52\"], \"font\": {\"color\": \"#2a3f5f\"}, \"geo\": {\"bgcolor\": \"white\", \"lakecolor\": \"white\", \"landcolor\": \"#E5ECF6\", \"showlakes\": true, \"showland\": true, \"subunitcolor\": \"white\"}, \"hoverlabel\": {\"align\": \"left\"}, \"hovermode\": \"closest\", \"mapbox\": {\"style\": \"light\"}, \"paper_bgcolor\": \"white\", \"plot_bgcolor\": \"#E5ECF6\", \"polar\": {\"angularaxis\": {\"gridcolor\": \"white\", \"linecolor\": \"white\", \"ticks\": \"\"}, \"bgcolor\": \"#E5ECF6\", \"radialaxis\": {\"gridcolor\": \"white\", \"linecolor\": \"white\", \"ticks\": \"\"}}, \"scene\": {\"xaxis\": {\"backgroundcolor\": \"#E5ECF6\", \"gridcolor\": \"white\", \"gridwidth\": 2, \"linecolor\": \"white\", \"showbackground\": true, \"ticks\": \"\", \"zerolinecolor\": \"white\"}, \"yaxis\": {\"backgroundcolor\": \"#E5ECF6\", \"gridcolor\": \"white\", \"gridwidth\": 2, \"linecolor\": \"white\", \"showbackground\": true, \"ticks\": \"\", \"zerolinecolor\": \"white\"}, \"zaxis\": {\"backgroundcolor\": \"#E5ECF6\", \"gridcolor\": \"white\", \"gridwidth\": 2, \"linecolor\": \"white\", \"showbackground\": true, \"ticks\": \"\", \"zerolinecolor\": \"white\"}}, \"shapedefaults\": {\"line\": {\"color\": \"#2a3f5f\"}}, \"ternary\": {\"aaxis\": {\"gridcolor\": \"white\", \"linecolor\": \"white\", \"ticks\": \"\"}, \"baxis\": {\"gridcolor\": \"white\", \"linecolor\": \"white\", \"ticks\": \"\"}, \"bgcolor\": \"#E5ECF6\", \"caxis\": {\"gridcolor\": \"white\", \"linecolor\": \"white\", \"ticks\": \"\"}}, \"title\": {\"x\": 0.05}, \"xaxis\": {\"automargin\": true, \"gridcolor\": \"white\", \"linecolor\": \"white\", \"ticks\": \"\", \"title\": {\"standoff\": 15}, \"zerolinecolor\": \"white\", \"zerolinewidth\": 2}, \"yaxis\": {\"automargin\": true, \"gridcolor\": \"white\", \"linecolor\": \"white\", \"ticks\": \"\", \"title\": {\"standoff\": 15}, \"zerolinecolor\": \"white\", \"zerolinewidth\": 2}}}, \"title\": {\"text\": \"Unigram Word Count\", \"x\": 0.5}, \"width\": 2000, \"xaxis\": {\"anchor\": \"y\", \"domain\": [0.0, 0.45]}, \"xaxis2\": {\"anchor\": \"y2\", \"domain\": [0.55, 1.0]}, \"yaxis\": {\"anchor\": \"x\", \"domain\": [0.0, 1.0]}, \"yaxis2\": {\"anchor\": \"x2\", \"domain\": [0.0, 1.0]}},\n",
              "                        {\"responsive\": true}\n",
              "                    ).then(function(){\n",
              "                            \n",
              "var gd = document.getElementById('b1d84b97-23c2-46e4-a4a2-d048fcbbac87');\n",
              "var x = new MutationObserver(function (mutations, observer) {{\n",
              "        var display = window.getComputedStyle(gd).display;\n",
              "        if (!display || display === 'none') {{\n",
              "            console.log([gd, 'removed!']);\n",
              "            Plotly.purge(gd);\n",
              "            observer.disconnect();\n",
              "        }}\n",
              "}});\n",
              "\n",
              "// Listen for the removal of the full notebook cells\n",
              "var notebookContainer = gd.closest('#notebook-container');\n",
              "if (notebookContainer) {{\n",
              "    x.observe(notebookContainer, {childList: true});\n",
              "}}\n",
              "\n",
              "// Listen for the clearing of the current output cell\n",
              "var outputEl = gd.closest('.output');\n",
              "if (outputEl) {{\n",
              "    x.observe(outputEl, {childList: true});\n",
              "}}\n",
              "\n",
              "                        })\n",
              "                };\n",
              "                \n",
              "            </script>\n",
              "        </div>\n",
              "</body>\n",
              "</html>"
            ]
          },
          "metadata": {
            "tags": []
          }
        }
      ]
    },
    {
      "cell_type": "markdown",
      "metadata": {
        "id": "dmWEcq8mPsLq"
      },
      "source": [
        "**Observations**: \r\n",
        "\r\n",
        "*   Some top words are common across both the classes such as 'people', 'will', 'think'\r\n",
        "*   The other top words in sincere questions after excluding the common ones at the very top are 'best', 'good'\r\n",
        "* The other top words in insincere questions after excluding the common ones are 'trump', 'women', 'white'\r\n",
        "\r\n",
        "This doesn't tell us much, I'll create a bigram frequency plots for both the classes separately to get an better understanding of word relationships"
      ]
    },
    {
      "cell_type": "code",
      "metadata": {
        "colab": {
          "base_uri": "https://localhost:8080/",
          "height": 1000
        },
        "id": "JDLJgVazSaZU",
        "outputId": "0332c3ec-8ad3-4ea6-9667-01c30a5fc8b6"
      },
      "source": [
        "# get the bar chart from sincere questions (bigram)\r\n",
        "freq_dict = defaultdict(int)\r\n",
        "for sent in train0_df[\"question_text\"]:\r\n",
        "    for word in generate_ngrams(sent,2):\r\n",
        "        freq_dict[word] += 1\r\n",
        "fd_sorted = pd.DataFrame(sorted(freq_dict.items(), key=lambda x: x[1])[::-1])\r\n",
        "fd_sorted.columns = [\"word\", \"wordcount\"]\r\n",
        "trace0 = horizontal_bar_chart(fd_sorted.head(50), 'orange')\r\n",
        "\r\n",
        "# get the bar chart from insincere questions\r\n",
        "freq_dict = defaultdict(int)\r\n",
        "for sent in train1_df[\"question_text\"]:\r\n",
        "    for word in generate_ngrams(sent,2):\r\n",
        "        freq_dict[word] += 1\r\n",
        "fd_sorted = pd.DataFrame(sorted(freq_dict.items(), key=lambda x: x[1])[::-1])\r\n",
        "fd_sorted.columns = [\"word\", \"wordcount\"]\r\n",
        "trace1 = horizontal_bar_chart(fd_sorted.head(50), 'orange')\r\n",
        "\r\n",
        "# create two subplots\r\n",
        "fig2 = tools.make_subplots(rows=1, cols=2, vertical_spacing=0.04,horizontal_spacing=0.15,\r\n",
        "                          subplot_titles=[\"Frequent bigrams of sincere questions\", \r\n",
        "                                          \"Frequent bigrams of insincere questions\"])\r\n",
        "fig2.append_trace(trace0, 1, 1)\r\n",
        "fig2.append_trace(trace1, 1, 2)\r\n",
        "fig2['layout'].update(height=1200, width=2000, title=\"Bigram Word Count\", title_x=0.5)\r\n",
        "\r\n",
        "fig2.show(renderer=\"colab\")"
      ],
      "execution_count": 79,
      "outputs": [
        {
          "output_type": "stream",
          "text": [
            "/usr/local/lib/python3.6/dist-packages/plotly/tools.py:465: DeprecationWarning:\n",
            "\n",
            "plotly.tools.make_subplots is deprecated, please use plotly.subplots.make_subplots instead\n",
            "\n"
          ],
          "name": "stderr"
        },
        {
          "output_type": "display_data",
          "data": {
            "text/html": [
              "<html>\n",
              "<head><meta charset=\"utf-8\" /></head>\n",
              "<body>\n",
              "    <div>\n",
              "            <script src=\"https://cdnjs.cloudflare.com/ajax/libs/mathjax/2.7.5/MathJax.js?config=TeX-AMS-MML_SVG\"></script><script type=\"text/javascript\">if (window.MathJax) {MathJax.Hub.Config({SVG: {font: \"STIX-Web\"}});}</script>\n",
              "                <script type=\"text/javascript\">window.PlotlyConfig = {MathJaxConfig: 'local'};</script>\n",
              "        <script src=\"https://cdn.plot.ly/plotly-latest.min.js\"></script>    \n",
              "            <div id=\"cdec9f04-e21a-4d88-8d1d-9b056d834ea7\" class=\"plotly-graph-div\" style=\"height:1200px; width:2000px;\"></div>\n",
              "            <script type=\"text/javascript\">\n",
              "                \n",
              "                    window.PLOTLYENV=window.PLOTLYENV || {};\n",
              "                    \n",
              "                if (document.getElementById(\"cdec9f04-e21a-4d88-8d1d-9b056d834ea7\")) {\n",
              "                    Plotly.newPlot(\n",
              "                        'cdec9f04-e21a-4d88-8d1d-9b056d834ea7',\n",
              "                        [{\"marker\": {\"color\": \"orange\"}, \"orientation\": \"h\", \"showlegend\": false, \"type\": \"bar\", \"x\": [792, 793, 803, 824, 832, 868, 873, 880, 882, 884, 888, 908, 935, 951, 968, 1002, 1009, 1048, 1050, 1080, 1101, 1110, 1126, 1135, 1142, 1162, 1175, 1216, 1229, 1230, 1286, 1327, 1417, 1435, 1447, 1763, 1775, 1797, 1822, 1838, 1859, 1870, 1922, 1931, 2196, 2274, 2317, 2972, 3350, 6973], \"xaxis\": \"x\", \"y\": [\"best books\", \"world war\", \"new york\", \"would be?\", \"good bad\", \"real estate\", \"useful tips\", \"machine learning\", \"much cost\", \"would win,\", \"years old\", \"north korea\", \"would take\", \"best book\", \"get good\", \"advice would\", \"different types\", \"what's difference\", \"make money\", \"pros cons\", \"get admission\", \"jee mains\", \"united states?\", \"way get\", \"people think\", \"best place\", \"much money\", \"would give\", \"look like\", \"would win\", \"much time\", \"look like?\", \"donald trump\", \"social media\", \"best ways\", \"get job\", \"high school\", \"united states\", \"known for?\", \"long take\", \"even though\", \"computer science\", \"would like\", \"many people\", \"what's best\", \"feel like\", \"get rid\", \"year old\", \"would happen\", \"best way\"], \"yaxis\": \"y\"}, {\"marker\": {\"color\": \"orange\"}, \"orientation\": \"h\", \"showlegend\": false, \"type\": \"bar\", \"x\": [109, 110, 110, 113, 116, 116, 117, 118, 125, 127, 130, 134, 138, 138, 141, 144, 144, 145, 147, 147, 152, 153, 154, 154, 156, 157, 163, 168, 177, 180, 184, 186, 186, 204, 211, 217, 221, 225, 255, 298, 305, 328, 330, 335, 335, 360, 383, 652, 673, 1076], \"xaxis\": \"x2\", \"y\": [\"people want\", \"many americans\", \"want sex\", \"get rid\", \"best way\", \"north indian\", \"gay people\", \"british people\", \"black people?\", \"african americans\", \"people still\", \"indian people\", \"narendra modi\", \"white people?\", \"girls like\", \"act like\", \"gun control\", \"indian men\", \"white men\", \"feel like\", \"people believe\", \"united states?\", \"south indians\", \"would happen\", \"people say\", \"black men\", \"north korea\", \"white women\", \"donald trump?\", \"look like\", \"indian women\", \"people quora\", \"women like\", \"north indians\", \"people like\", \"people hate\", \"indian girls\", \"indian muslims\", \"chinese people\", \"people think\", \"hillary clinton\", \"president trump\", \"year old\", \"trump supporters\", \"even though\", \"united states\", \"many people\", \"black people\", \"white people\", \"donald trump\"], \"yaxis\": \"y2\"}],\n",
              "                        {\"annotations\": [{\"font\": {\"size\": 16}, \"showarrow\": false, \"text\": \"Frequent bigrams of sincere questions\", \"x\": 0.2125, \"xanchor\": \"center\", \"xref\": \"paper\", \"y\": 1.0, \"yanchor\": \"bottom\", \"yref\": \"paper\"}, {\"font\": {\"size\": 16}, \"showarrow\": false, \"text\": \"Frequent bigrams of insincere questions\", \"x\": 0.7875, \"xanchor\": \"center\", \"xref\": \"paper\", \"y\": 1.0, \"yanchor\": \"bottom\", \"yref\": \"paper\"}], \"height\": 1200, \"template\": {\"data\": {\"bar\": [{\"error_x\": {\"color\": \"#2a3f5f\"}, \"error_y\": {\"color\": \"#2a3f5f\"}, \"marker\": {\"line\": {\"color\": \"#E5ECF6\", \"width\": 0.5}}, \"type\": \"bar\"}], \"barpolar\": [{\"marker\": {\"line\": {\"color\": \"#E5ECF6\", \"width\": 0.5}}, \"type\": \"barpolar\"}], \"carpet\": [{\"aaxis\": {\"endlinecolor\": \"#2a3f5f\", \"gridcolor\": \"white\", \"linecolor\": \"white\", \"minorgridcolor\": \"white\", \"startlinecolor\": \"#2a3f5f\"}, \"baxis\": {\"endlinecolor\": \"#2a3f5f\", \"gridcolor\": \"white\", \"linecolor\": \"white\", \"minorgridcolor\": \"white\", \"startlinecolor\": \"#2a3f5f\"}, \"type\": \"carpet\"}], \"choropleth\": [{\"colorbar\": {\"outlinewidth\": 0, \"ticks\": \"\"}, \"type\": \"choropleth\"}], \"contour\": [{\"colorbar\": {\"outlinewidth\": 0, \"ticks\": \"\"}, \"colorscale\": [[0.0, \"#0d0887\"], [0.1111111111111111, \"#46039f\"], [0.2222222222222222, \"#7201a8\"], [0.3333333333333333, \"#9c179e\"], [0.4444444444444444, \"#bd3786\"], [0.5555555555555556, \"#d8576b\"], [0.6666666666666666, \"#ed7953\"], [0.7777777777777778, \"#fb9f3a\"], [0.8888888888888888, \"#fdca26\"], [1.0, \"#f0f921\"]], \"type\": \"contour\"}], \"contourcarpet\": [{\"colorbar\": {\"outlinewidth\": 0, \"ticks\": \"\"}, \"type\": \"contourcarpet\"}], \"heatmap\": [{\"colorbar\": {\"outlinewidth\": 0, \"ticks\": \"\"}, \"colorscale\": [[0.0, \"#0d0887\"], [0.1111111111111111, \"#46039f\"], [0.2222222222222222, \"#7201a8\"], [0.3333333333333333, \"#9c179e\"], [0.4444444444444444, \"#bd3786\"], [0.5555555555555556, \"#d8576b\"], [0.6666666666666666, \"#ed7953\"], [0.7777777777777778, \"#fb9f3a\"], [0.8888888888888888, \"#fdca26\"], [1.0, \"#f0f921\"]], \"type\": \"heatmap\"}], \"heatmapgl\": [{\"colorbar\": {\"outlinewidth\": 0, \"ticks\": \"\"}, \"colorscale\": [[0.0, \"#0d0887\"], [0.1111111111111111, \"#46039f\"], [0.2222222222222222, \"#7201a8\"], [0.3333333333333333, \"#9c179e\"], [0.4444444444444444, \"#bd3786\"], [0.5555555555555556, \"#d8576b\"], [0.6666666666666666, \"#ed7953\"], [0.7777777777777778, \"#fb9f3a\"], [0.8888888888888888, \"#fdca26\"], [1.0, \"#f0f921\"]], \"type\": \"heatmapgl\"}], \"histogram\": [{\"marker\": {\"colorbar\": {\"outlinewidth\": 0, \"ticks\": \"\"}}, \"type\": \"histogram\"}], \"histogram2d\": [{\"colorbar\": {\"outlinewidth\": 0, \"ticks\": \"\"}, \"colorscale\": [[0.0, \"#0d0887\"], [0.1111111111111111, \"#46039f\"], [0.2222222222222222, \"#7201a8\"], [0.3333333333333333, \"#9c179e\"], [0.4444444444444444, \"#bd3786\"], [0.5555555555555556, \"#d8576b\"], [0.6666666666666666, \"#ed7953\"], [0.7777777777777778, \"#fb9f3a\"], [0.8888888888888888, \"#fdca26\"], [1.0, \"#f0f921\"]], \"type\": \"histogram2d\"}], \"histogram2dcontour\": [{\"colorbar\": {\"outlinewidth\": 0, \"ticks\": \"\"}, \"colorscale\": [[0.0, \"#0d0887\"], [0.1111111111111111, \"#46039f\"], [0.2222222222222222, \"#7201a8\"], [0.3333333333333333, \"#9c179e\"], [0.4444444444444444, \"#bd3786\"], [0.5555555555555556, \"#d8576b\"], [0.6666666666666666, \"#ed7953\"], [0.7777777777777778, \"#fb9f3a\"], [0.8888888888888888, \"#fdca26\"], [1.0, \"#f0f921\"]], \"type\": \"histogram2dcontour\"}], \"mesh3d\": [{\"colorbar\": {\"outlinewidth\": 0, \"ticks\": \"\"}, \"type\": \"mesh3d\"}], \"parcoords\": [{\"line\": {\"colorbar\": {\"outlinewidth\": 0, \"ticks\": \"\"}}, \"type\": \"parcoords\"}], \"pie\": [{\"automargin\": true, \"type\": \"pie\"}], \"scatter\": [{\"marker\": {\"colorbar\": {\"outlinewidth\": 0, \"ticks\": \"\"}}, \"type\": \"scatter\"}], \"scatter3d\": [{\"line\": {\"colorbar\": {\"outlinewidth\": 0, \"ticks\": \"\"}}, \"marker\": {\"colorbar\": {\"outlinewidth\": 0, \"ticks\": \"\"}}, \"type\": \"scatter3d\"}], \"scattercarpet\": [{\"marker\": {\"colorbar\": {\"outlinewidth\": 0, \"ticks\": \"\"}}, \"type\": \"scattercarpet\"}], \"scattergeo\": [{\"marker\": {\"colorbar\": {\"outlinewidth\": 0, \"ticks\": \"\"}}, \"type\": \"scattergeo\"}], \"scattergl\": [{\"marker\": {\"colorbar\": {\"outlinewidth\": 0, \"ticks\": \"\"}}, \"type\": \"scattergl\"}], \"scattermapbox\": [{\"marker\": {\"colorbar\": {\"outlinewidth\": 0, \"ticks\": \"\"}}, \"type\": \"scattermapbox\"}], \"scatterpolar\": [{\"marker\": {\"colorbar\": {\"outlinewidth\": 0, \"ticks\": \"\"}}, \"type\": \"scatterpolar\"}], \"scatterpolargl\": [{\"marker\": {\"colorbar\": {\"outlinewidth\": 0, \"ticks\": \"\"}}, \"type\": \"scatterpolargl\"}], \"scatterternary\": [{\"marker\": {\"colorbar\": {\"outlinewidth\": 0, \"ticks\": \"\"}}, \"type\": \"scatterternary\"}], \"surface\": [{\"colorbar\": {\"outlinewidth\": 0, \"ticks\": \"\"}, \"colorscale\": [[0.0, \"#0d0887\"], [0.1111111111111111, \"#46039f\"], [0.2222222222222222, \"#7201a8\"], [0.3333333333333333, \"#9c179e\"], [0.4444444444444444, \"#bd3786\"], [0.5555555555555556, \"#d8576b\"], [0.6666666666666666, \"#ed7953\"], [0.7777777777777778, \"#fb9f3a\"], [0.8888888888888888, \"#fdca26\"], [1.0, \"#f0f921\"]], \"type\": \"surface\"}], \"table\": [{\"cells\": {\"fill\": {\"color\": \"#EBF0F8\"}, \"line\": {\"color\": \"white\"}}, \"header\": {\"fill\": {\"color\": \"#C8D4E3\"}, \"line\": {\"color\": \"white\"}}, \"type\": \"table\"}]}, \"layout\": {\"annotationdefaults\": {\"arrowcolor\": \"#2a3f5f\", \"arrowhead\": 0, \"arrowwidth\": 1}, \"coloraxis\": {\"colorbar\": {\"outlinewidth\": 0, \"ticks\": \"\"}}, \"colorscale\": {\"diverging\": [[0, \"#8e0152\"], [0.1, \"#c51b7d\"], [0.2, \"#de77ae\"], [0.3, \"#f1b6da\"], [0.4, \"#fde0ef\"], [0.5, \"#f7f7f7\"], [0.6, \"#e6f5d0\"], [0.7, \"#b8e186\"], [0.8, \"#7fbc41\"], [0.9, \"#4d9221\"], [1, \"#276419\"]], \"sequential\": [[0.0, \"#0d0887\"], [0.1111111111111111, \"#46039f\"], [0.2222222222222222, \"#7201a8\"], [0.3333333333333333, \"#9c179e\"], [0.4444444444444444, \"#bd3786\"], [0.5555555555555556, \"#d8576b\"], [0.6666666666666666, \"#ed7953\"], [0.7777777777777778, \"#fb9f3a\"], [0.8888888888888888, \"#fdca26\"], [1.0, \"#f0f921\"]], \"sequentialminus\": [[0.0, \"#0d0887\"], [0.1111111111111111, \"#46039f\"], [0.2222222222222222, \"#7201a8\"], [0.3333333333333333, \"#9c179e\"], [0.4444444444444444, \"#bd3786\"], [0.5555555555555556, \"#d8576b\"], [0.6666666666666666, \"#ed7953\"], [0.7777777777777778, \"#fb9f3a\"], [0.8888888888888888, \"#fdca26\"], [1.0, \"#f0f921\"]]}, \"colorway\": [\"#636efa\", \"#EF553B\", \"#00cc96\", \"#ab63fa\", \"#FFA15A\", \"#19d3f3\", \"#FF6692\", \"#B6E880\", \"#FF97FF\", \"#FECB52\"], \"font\": {\"color\": \"#2a3f5f\"}, \"geo\": {\"bgcolor\": \"white\", \"lakecolor\": \"white\", \"landcolor\": \"#E5ECF6\", \"showlakes\": true, \"showland\": true, \"subunitcolor\": \"white\"}, \"hoverlabel\": {\"align\": \"left\"}, \"hovermode\": \"closest\", \"mapbox\": {\"style\": \"light\"}, \"paper_bgcolor\": \"white\", \"plot_bgcolor\": \"#E5ECF6\", \"polar\": {\"angularaxis\": {\"gridcolor\": \"white\", \"linecolor\": \"white\", \"ticks\": \"\"}, \"bgcolor\": \"#E5ECF6\", \"radialaxis\": {\"gridcolor\": \"white\", \"linecolor\": \"white\", \"ticks\": \"\"}}, \"scene\": {\"xaxis\": {\"backgroundcolor\": \"#E5ECF6\", \"gridcolor\": \"white\", \"gridwidth\": 2, \"linecolor\": \"white\", \"showbackground\": true, \"ticks\": \"\", \"zerolinecolor\": \"white\"}, \"yaxis\": {\"backgroundcolor\": \"#E5ECF6\", \"gridcolor\": \"white\", \"gridwidth\": 2, \"linecolor\": \"white\", \"showbackground\": true, \"ticks\": \"\", \"zerolinecolor\": \"white\"}, \"zaxis\": {\"backgroundcolor\": \"#E5ECF6\", \"gridcolor\": \"white\", \"gridwidth\": 2, \"linecolor\": \"white\", \"showbackground\": true, \"ticks\": \"\", \"zerolinecolor\": \"white\"}}, \"shapedefaults\": {\"line\": {\"color\": \"#2a3f5f\"}}, \"ternary\": {\"aaxis\": {\"gridcolor\": \"white\", \"linecolor\": \"white\", \"ticks\": \"\"}, \"baxis\": {\"gridcolor\": \"white\", \"linecolor\": \"white\", \"ticks\": \"\"}, \"bgcolor\": \"#E5ECF6\", \"caxis\": {\"gridcolor\": \"white\", \"linecolor\": \"white\", \"ticks\": \"\"}}, \"title\": {\"x\": 0.05}, \"xaxis\": {\"automargin\": true, \"gridcolor\": \"white\", \"linecolor\": \"white\", \"ticks\": \"\", \"title\": {\"standoff\": 15}, \"zerolinecolor\": \"white\", \"zerolinewidth\": 2}, \"yaxis\": {\"automargin\": true, \"gridcolor\": \"white\", \"linecolor\": \"white\", \"ticks\": \"\", \"title\": {\"standoff\": 15}, \"zerolinecolor\": \"white\", \"zerolinewidth\": 2}}}, \"title\": {\"text\": \"Bigram Word Count\", \"x\": 0.5}, \"width\": 2000, \"xaxis\": {\"anchor\": \"y\", \"domain\": [0.0, 0.425]}, \"xaxis2\": {\"anchor\": \"y2\", \"domain\": [0.575, 1.0]}, \"yaxis\": {\"anchor\": \"x\", \"domain\": [0.0, 1.0]}, \"yaxis2\": {\"anchor\": \"x2\", \"domain\": [0.0, 1.0]}},\n",
              "                        {\"responsive\": true}\n",
              "                    ).then(function(){\n",
              "                            \n",
              "var gd = document.getElementById('cdec9f04-e21a-4d88-8d1d-9b056d834ea7');\n",
              "var x = new MutationObserver(function (mutations, observer) {{\n",
              "        var display = window.getComputedStyle(gd).display;\n",
              "        if (!display || display === 'none') {{\n",
              "            console.log([gd, 'removed!']);\n",
              "            Plotly.purge(gd);\n",
              "            observer.disconnect();\n",
              "        }}\n",
              "}});\n",
              "\n",
              "// Listen for the removal of the full notebook cells\n",
              "var notebookContainer = gd.closest('#notebook-container');\n",
              "if (notebookContainer) {{\n",
              "    x.observe(notebookContainer, {childList: true});\n",
              "}}\n",
              "\n",
              "// Listen for the clearing of the current output cell\n",
              "var outputEl = gd.closest('.output');\n",
              "if (outputEl) {{\n",
              "    x.observe(outputEl, {childList: true});\n",
              "}}\n",
              "\n",
              "                        })\n",
              "                };\n",
              "                \n",
              "            </script>\n",
              "        </div>\n",
              "</body>\n",
              "</html>"
            ]
          },
          "metadata": {
            "tags": []
          }
        }
      ]
    },
    {
      "cell_type": "markdown",
      "metadata": {
        "id": "Pt9LwtHYU8MR"
      },
      "source": [
        "**Observations:**\r\n",
        "\r\n",
        "* Bigram word frequency in *sincere* questions seem to be more neutral in semantic meaning\r\n",
        "* Bigram word frequency in *insincere* questions seem to be focused on Donald Trump, race and sexual orientation, all potential topics where toxicity can flourish"
      ]
    },
    {
      "cell_type": "markdown",
      "metadata": {
        "id": "cWuOjkQKbV3H"
      },
      "source": [
        "# Text Preprocessing and Normalization"
      ]
    },
    {
      "cell_type": "code",
      "metadata": {
        "id": "WgLM-lnQlIeR"
      },
      "source": [
        ""
      ],
      "execution_count": null,
      "outputs": []
    },
    {
      "cell_type": "code",
      "metadata": {
        "id": "E0x_coAJhhKa"
      },
      "source": [
        "def load_and_process():\r\n",
        "    train_df = pd.read_csv(\"/content/drive/MyDrive/W266 NLP/Project/train.csv\")\r\n",
        "    test_df = pd.read_csv(\"/content/drive/MyDrive/W266 NLP/Project/test.csv\")\r\n",
        "    print(\"Train shape : \",train_df.shape)\r\n",
        "    print(\"Test shape : \",test_df.shape)\r\n",
        "    \r\n",
        "    ## split to train and val\r\n",
        "    train_df, val_df = train_test_split(train_df, test_size=.2, random_state=123)\r\n",
        "\r\n",
        "    ## fill up the missing values\r\n",
        "    train_X = train_df[\"question_text\"].fillna(\"_##_\").values\r\n",
        "    val_X = val_df[\"question_text\"].fillna(\"_##_\").values\r\n",
        "    test_X = test_df[\"question_text\"].fillna(\"_##_\").values\r\n",
        "\r\n",
        "    ## Tokenize the sentences\r\n",
        "    tokenizer = Tokenizer(num_words=max_features)\r\n",
        "    tokenizer.fit_on_texts(list(train_X))\r\n",
        "    train_X = tokenizer.texts_to_sequences(train_X)\r\n",
        "    val_X = tokenizer.texts_to_sequences(val_X)\r\n",
        "    test_X = tokenizer.texts_to_sequences(test_X)\r\n",
        "\r\n",
        "    ## Pad the sentences \r\n",
        "    train_X = pad_sequences(train_X, maxlen=maxlen)\r\n",
        "    val_X = pad_sequences(val_X, maxlen=maxlen)\r\n",
        "    test_X = pad_sequences(test_X, maxlen=maxlen)\r\n",
        "\r\n",
        "    ## Get the target values\r\n",
        "    train_y = train_df['target'].values\r\n",
        "    val_y = val_df['target'].values  \r\n",
        "    \r\n",
        "    #shuffling the data\r\n",
        "    np.random.seed(2018)\r\n",
        "    trn_idx = np.random.permutation(len(train_X))\r\n",
        "    val_idx = np.random.permutation(len(val_X))\r\n",
        "\r\n",
        "    train_X = train_X[trn_idx]\r\n",
        "    val_X = val_X[val_idx]\r\n",
        "    train_y = train_y[trn_idx]\r\n",
        "    val_y = val_y[val_idx]    \r\n",
        "    \r\n",
        "    return train_X, val_X, test_X, train_y, val_y, tokenizer.word_index"
      ],
      "execution_count": 12,
      "outputs": []
    },
    {
      "cell_type": "code",
      "metadata": {
        "id": "xkLWnvuLsMVX"
      },
      "source": [
        ""
      ],
      "execution_count": null,
      "outputs": []
    }
  ]
}