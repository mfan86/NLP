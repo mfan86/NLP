{
  "nbformat": 4,
  "nbformat_minor": 0,
  "metadata": {
    "colab": {
      "name": "lyrics_eda_final.ipynb",
      "provenance": [],
      "collapsed_sections": []
    },
    "kernelspec": {
      "display_name": "Python 3",
      "name": "python3"
    }
  },
  "cells": [
    {
      "cell_type": "code",
      "metadata": {
        "colab": {
          "base_uri": "https://localhost:8080/"
        },
        "id": "wu7DmUUyw5DB",
        "outputId": "f300e19c-50da-4f02-e84a-e0c9df3c4a6b"
      },
      "source": [
        "import matplotlib.pyplot as plt\n",
        "%matplotlib inline\n",
        "plt.rcParams['figure.figsize'] = [20.0, 10.0]\n",
        "plt.rcParams.update({'font.size': 22,})\n",
        "import seaborn as sns\n",
        "from google.colab import drive\n",
        "\n",
        "import os\n",
        "import time\n",
        "import shutil\n",
        "import numpy as np \n",
        "np.random.seed(22)\n",
        "import random\n",
        "random.seed(33)\n",
        "import pandas as pd \n",
        "from tqdm import tqdm\n",
        "import gc\n",
        "import math\n",
        "import string\n",
        "import re\n",
        "from collections import Counter\n",
        "from sklearn.model_selection import train_test_split\n",
        "from sklearn import metrics, preprocessing\n",
        "from sklearn.preprocessing import OneHotEncoder\n",
        "import seaborn as sns\n",
        "import plotly.express as pe\n",
        "from wordcloud import WordCloud, STOPWORDS \n",
        "\n",
        "import nltk\n",
        "from nltk.util import ngrams\n",
        "from nltk.corpus import stopwords\n",
        "from nltk.tokenize import word_tokenize\n",
        "nltk.download('stopwords')\n",
        "nltk.download('punkt')"
      ],
      "execution_count": null,
      "outputs": [
        {
          "output_type": "stream",
          "text": [
            "[nltk_data] Downloading package stopwords to /root/nltk_data...\n",
            "[nltk_data]   Package stopwords is already up-to-date!\n",
            "[nltk_data] Downloading package punkt to /root/nltk_data...\n",
            "[nltk_data]   Package punkt is already up-to-date!\n"
          ],
          "name": "stdout"
        },
        {
          "output_type": "execute_result",
          "data": {
            "text/plain": [
              "True"
            ]
          },
          "metadata": {
            "tags": []
          },
          "execution_count": 4
        }
      ]
    },
    {
      "cell_type": "code",
      "metadata": {
        "colab": {
          "base_uri": "https://localhost:8080/"
        },
        "id": "H2l-DFn74po6",
        "outputId": "ce23552c-6e53-4eb7-850f-970f3d6abbc9"
      },
      "source": [
        "drive.mount('/content/drive')"
      ],
      "execution_count": null,
      "outputs": [
        {
          "output_type": "stream",
          "text": [
            "Drive already mounted at /content/drive; to attempt to forcibly remount, call drive.mount(\"/content/drive\", force_remount=True).\n"
          ],
          "name": "stdout"
        }
      ]
    },
    {
      "cell_type": "code",
      "metadata": {
        "colab": {
          "base_uri": "https://localhost:8080/",
          "height": 359
        },
        "id": "qyyn57_u6qYi",
        "outputId": "42d98d18-b950-4afb-dd0e-4ef82daa93d4"
      },
      "source": [
        "songs_df = pd.read_csv(\"/content/drive/MyDrive/W266 NLP/Project/Music/lyrics.csv\")\n",
        "del songs_df[\"index\"]\n",
        "songs_df.head(10)"
      ],
      "execution_count": null,
      "outputs": [
        {
          "output_type": "execute_result",
          "data": {
            "text/html": [
              "<div>\n",
              "<style scoped>\n",
              "    .dataframe tbody tr th:only-of-type {\n",
              "        vertical-align: middle;\n",
              "    }\n",
              "\n",
              "    .dataframe tbody tr th {\n",
              "        vertical-align: top;\n",
              "    }\n",
              "\n",
              "    .dataframe thead th {\n",
              "        text-align: right;\n",
              "    }\n",
              "</style>\n",
              "<table border=\"1\" class=\"dataframe\">\n",
              "  <thead>\n",
              "    <tr style=\"text-align: right;\">\n",
              "      <th></th>\n",
              "      <th>song</th>\n",
              "      <th>year</th>\n",
              "      <th>artist</th>\n",
              "      <th>genre</th>\n",
              "      <th>lyrics</th>\n",
              "    </tr>\n",
              "  </thead>\n",
              "  <tbody>\n",
              "    <tr>\n",
              "      <th>0</th>\n",
              "      <td>ego-remix</td>\n",
              "      <td>2009</td>\n",
              "      <td>beyonce-knowles</td>\n",
              "      <td>Pop</td>\n",
              "      <td>Oh baby, how you doing?\\nYou know I'm gonna cu...</td>\n",
              "    </tr>\n",
              "    <tr>\n",
              "      <th>1</th>\n",
              "      <td>then-tell-me</td>\n",
              "      <td>2009</td>\n",
              "      <td>beyonce-knowles</td>\n",
              "      <td>Pop</td>\n",
              "      <td>playin' everything so easy,\\nit's like you see...</td>\n",
              "    </tr>\n",
              "    <tr>\n",
              "      <th>2</th>\n",
              "      <td>honesty</td>\n",
              "      <td>2009</td>\n",
              "      <td>beyonce-knowles</td>\n",
              "      <td>Pop</td>\n",
              "      <td>If you search\\nFor tenderness\\nIt isn't hard t...</td>\n",
              "    </tr>\n",
              "    <tr>\n",
              "      <th>3</th>\n",
              "      <td>you-are-my-rock</td>\n",
              "      <td>2009</td>\n",
              "      <td>beyonce-knowles</td>\n",
              "      <td>Pop</td>\n",
              "      <td>Oh oh oh I, oh oh oh I\\n[Verse 1:]\\nIf I wrote...</td>\n",
              "    </tr>\n",
              "    <tr>\n",
              "      <th>4</th>\n",
              "      <td>black-culture</td>\n",
              "      <td>2009</td>\n",
              "      <td>beyonce-knowles</td>\n",
              "      <td>Pop</td>\n",
              "      <td>Party the people, the people the party it's po...</td>\n",
              "    </tr>\n",
              "    <tr>\n",
              "      <th>5</th>\n",
              "      <td>all-i-could-do-was-cry</td>\n",
              "      <td>2009</td>\n",
              "      <td>beyonce-knowles</td>\n",
              "      <td>Pop</td>\n",
              "      <td>I heard\\nChurch bells ringing\\nI heard\\nA choi...</td>\n",
              "    </tr>\n",
              "    <tr>\n",
              "      <th>6</th>\n",
              "      <td>once-in-a-lifetime</td>\n",
              "      <td>2009</td>\n",
              "      <td>beyonce-knowles</td>\n",
              "      <td>Pop</td>\n",
              "      <td>This is just another day that I would spend\\nW...</td>\n",
              "    </tr>\n",
              "    <tr>\n",
              "      <th>7</th>\n",
              "      <td>waiting</td>\n",
              "      <td>2009</td>\n",
              "      <td>beyonce-knowles</td>\n",
              "      <td>Pop</td>\n",
              "      <td>Waiting, waiting, waiting, waiting\\nWaiting, w...</td>\n",
              "    </tr>\n",
              "    <tr>\n",
              "      <th>8</th>\n",
              "      <td>slow-love</td>\n",
              "      <td>2009</td>\n",
              "      <td>beyonce-knowles</td>\n",
              "      <td>Pop</td>\n",
              "      <td>[Verse 1:]\\nI read all of the magazines\\nwhile...</td>\n",
              "    </tr>\n",
              "    <tr>\n",
              "      <th>9</th>\n",
              "      <td>why-don-t-you-love-me</td>\n",
              "      <td>2009</td>\n",
              "      <td>beyonce-knowles</td>\n",
              "      <td>Pop</td>\n",
              "      <td>N-n-now, honey\\nYou better sit down and look a...</td>\n",
              "    </tr>\n",
              "  </tbody>\n",
              "</table>\n",
              "</div>"
            ],
            "text/plain": [
              "                     song  ...                                             lyrics\n",
              "0               ego-remix  ...  Oh baby, how you doing?\\nYou know I'm gonna cu...\n",
              "1            then-tell-me  ...  playin' everything so easy,\\nit's like you see...\n",
              "2                 honesty  ...  If you search\\nFor tenderness\\nIt isn't hard t...\n",
              "3         you-are-my-rock  ...  Oh oh oh I, oh oh oh I\\n[Verse 1:]\\nIf I wrote...\n",
              "4           black-culture  ...  Party the people, the people the party it's po...\n",
              "5  all-i-could-do-was-cry  ...  I heard\\nChurch bells ringing\\nI heard\\nA choi...\n",
              "6      once-in-a-lifetime  ...  This is just another day that I would spend\\nW...\n",
              "7                 waiting  ...  Waiting, waiting, waiting, waiting\\nWaiting, w...\n",
              "8               slow-love  ...  [Verse 1:]\\nI read all of the magazines\\nwhile...\n",
              "9   why-don-t-you-love-me  ...  N-n-now, honey\\nYou better sit down and look a...\n",
              "\n",
              "[10 rows x 5 columns]"
            ]
          },
          "metadata": {
            "tags": []
          },
          "execution_count": 6
        }
      ]
    },
    {
      "cell_type": "code",
      "metadata": {
        "colab": {
          "base_uri": "https://localhost:8080/"
        },
        "id": "eguU5dCI6q8R",
        "outputId": "71b14374-0e2a-4477-f0ba-714d2e83237b"
      },
      "source": [
        "songs_df.shape"
      ],
      "execution_count": null,
      "outputs": [
        {
          "output_type": "execute_result",
          "data": {
            "text/plain": [
              "(362237, 5)"
            ]
          },
          "metadata": {
            "tags": []
          },
          "execution_count": 7
        }
      ]
    },
    {
      "cell_type": "code",
      "metadata": {
        "colab": {
          "base_uri": "https://localhost:8080/"
        },
        "id": "ccmKLpPO0DD5",
        "outputId": "03b089d6-6f8a-4257-8dae-6e9ff236b32d"
      },
      "source": [
        "print('Number of songs with empty lyrics is {0:.0f}'.format(np.sum(songs_df['year'].isnull())))"
      ],
      "execution_count": null,
      "outputs": [
        {
          "output_type": "stream",
          "text": [
            "Number of songs with empty lyrics is 0\n"
          ],
          "name": "stdout"
        }
      ]
    },
    {
      "cell_type": "markdown",
      "metadata": {
        "id": "tHkUNMK1fEVI"
      },
      "source": [
        "## EDA and Text Processing"
      ]
    },
    {
      "cell_type": "code",
      "metadata": {
        "colab": {
          "base_uri": "https://localhost:8080/"
        },
        "id": "t0NhNVcxfDiC",
        "outputId": "a32472b7-e0d1-4f85-a80b-576acd203b15"
      },
      "source": [
        "print('Number of songs with empty lyrics is {0:.0f}'.format(np.sum(songs_df['lyrics'].isnull())))\n",
        "print('Number of songs with empty genre is {0:.0f}'.format(np.sum(songs_df['genre'].isnull())))"
      ],
      "execution_count": null,
      "outputs": [
        {
          "output_type": "stream",
          "text": [
            "Number of songs with empty lyrics is 95680\n",
            "Number of songs with empty genre is 0\n"
          ],
          "name": "stdout"
        }
      ]
    },
    {
      "cell_type": "code",
      "metadata": {
        "id": "j14rvXVHlhnI"
      },
      "source": [
        "# remove songs with empty lyrics\n",
        "songs_df = songs_df[songs_df['lyrics'].notnull()]"
      ],
      "execution_count": null,
      "outputs": []
    },
    {
      "cell_type": "code",
      "metadata": {
        "colab": {
          "base_uri": "https://localhost:8080/"
        },
        "id": "qmdz_seYlmKZ",
        "outputId": "99d8e324-9871-4ea6-b6b5-236870e6834e"
      },
      "source": [
        "print('Average word length of lyrics is {0:.0f}'.format(np.nanmean(songs_df['lyrics'].apply(lambda x: len(x.split())))))\n",
        "print('Max word length of lyrics is {0:.0f}'.format(np.max(songs_df['lyrics'].apply(lambda x: len(x.split())))))\n",
        "print('Average character length of lyrics is {0:.0f}'.format(np.mean(songs_df['lyrics'].apply(lambda x: len(x)))))\n",
        "print('Count of unique words in lyrics is {:,}'.format(np.sum(songs_df[\"lyrics\"].apply(lambda x: len(str(x).split())))))\n",
        "\n",
        "stop_words = set(stopwords.words('english')) #from nltk\n",
        "print('Count of stop words in lyrics is {:,}'.format(np.sum(songs_df[\"lyrics\"].apply(lambda x: len([w for w in str(x).lower().split() if w in stop_words])))))\n",
        "print('Count of punctuations in lyrics is {:,}'.format(np.sum(songs_df[\"lyrics\"].apply(lambda x: len([c for c in str(x) if c in string.punctuation])))))"
      ],
      "execution_count": null,
      "outputs": [
        {
          "output_type": "stream",
          "text": [
            "Average word length of lyrics is 227\n",
            "Max word length of lyrics is 8195\n",
            "Average character length of lyrics is 1146\n",
            "Count of unique words in lyrics is 60,544,825\n",
            "Count of stop words in lyrics is 26,169,851\n",
            "Count of punctuations in lyrics is 9,343,649\n"
          ],
          "name": "stdout"
        }
      ]
    },
    {
      "cell_type": "markdown",
      "metadata": {
        "id": "YqYhi7sIo9EI"
      },
      "source": [
        "## Distribution Plots"
      ]
    },
    {
      "cell_type": "code",
      "metadata": {
        "colab": {
          "base_uri": "https://localhost:8080/",
          "height": 464
        },
        "id": "x8hHdsXpo-U7",
        "outputId": "684c9489-955b-46af-c5b4-e33256130a1e"
      },
      "source": [
        "%matplotlib inline\n",
        "plt.rcParams['figure.figsize'] = [20.0, 7.0]\n",
        "plt.rcParams.update({'font.size': 22,})\n",
        "\n",
        "songs_df['lyrics'].apply(lambda x: len(x.split())).plot(kind='hist', ec='black');\n",
        "plt.yscale('log');\n",
        "plt.title('Frequency of Word Count')\n",
        "plt.show()"
      ],
      "execution_count": null,
      "outputs": [
        {
          "output_type": "display_data",
          "data": {
            "image/png": "[encoded data removed]",
            "text/plain": [
              "<Figure size 1440x504 with 1 Axes>"
            ]
          },
          "metadata": {
            "tags": [],
            "needs_background": "light"
          }
        }
      ]
    },
    {
      "cell_type": "code",
      "metadata": {
        "colab": {
          "base_uri": "https://localhost:8080/",
          "height": 464
        },
        "id": "7uQELu6gr9dw",
        "outputId": "8b1bda4e-c0d6-433a-ebf9-453e82bb1255"
      },
      "source": [
        "songs_df['lyrics'].apply(lambda x : np.mean([len(x) for c in str(x).split()])).plot(kind='hist', ec='black');\n",
        "plt.yscale('log');\n",
        "plt.title('Distribution of stop words')\n",
        "plt.show()"
      ],
      "execution_count": null,
      "outputs": [
        {
          "output_type": "display_data",
          "data": {
            "image/png": "[encoded data removed]",
            "text/plain": [
              "<Figure size 1440x504 with 1 Axes>"
            ]
          },
          "metadata": {
            "tags": [],
            "needs_background": "light"
          }
        }
      ]
    },
    {
      "cell_type": "code",
      "metadata": {
        "colab": {
          "base_uri": "https://localhost:8080/",
          "height": 590
        },
        "id": "qJchyXTEuPGo",
        "outputId": "d293641d-b1cc-48aa-ca52-0db0bc8c5505"
      },
      "source": [
        "# Rock music dominates the dataset; highly imbalanced\n",
        "songs_df['genre'].value_counts().plot(kind='bar');\n",
        "#plt.yscale('log');\n",
        "plt.title('Distribution of songs by genre')\n",
        "plt.show()"
      ],
      "execution_count": null,
      "outputs": [
        {
          "output_type": "display_data",
          "data": {
            "image/png": "[encoded data removed]",
            "text/plain": [
              "<Figure size 1440x504 with 1 Axes>"
            ]
          },
          "metadata": {
            "tags": [],
            "needs_background": "light"
          }
        }
      ]
    },
    {
      "cell_type": "code",
      "metadata": {
        "colab": {
          "base_uri": "https://localhost:8080/",
          "height": 518
        },
        "id": "z9VGmAGPwlA1",
        "outputId": "47b42ce5-6636-42ff-f697-ebcd86abd16f"
      },
      "source": [
        "songs_df['year'].value_counts(sort=False).plot(kind='bar');\n",
        "plt.yscale('log');\n",
        "plt.title('Distribution of songs by year')\n",
        "plt.show()\n",
        "\n",
        "gc.collect()"
      ],
      "execution_count": null,
      "outputs": [
        {
          "output_type": "display_data",
          "data": {
            "image/png": "[encoded data removed]",
            "text/plain": [
              "<Figure size 1440x504 with 1 Axes>"
            ]
          },
          "metadata": {
            "tags": [],
            "needs_background": "light"
          }
        },
        {
          "output_type": "execute_result",
          "data": {
            "text/plain": [
              "16860"
            ]
          },
          "metadata": {
            "tags": []
          },
          "execution_count": 15
        }
      ]
    },
    {
      "cell_type": "markdown",
      "metadata": {
        "id": "HNHFF5aAER5X"
      },
      "source": [
        "# Text Processing"
      ]
    },
    {
      "cell_type": "code",
      "metadata": {
        "id": "ZQE90v-HcA7b"
      },
      "source": [
        "def lyric_preprocessing():\n",
        "  cleaned = songs_df.copy()\n",
        "  # lowercase words\n",
        "  cleaned['lyrics'] = cleaned['lyrics'].apply(lambda x: x.lower())\n",
        "\n",
        "  # remove punctuation\n",
        "  cleaned['lyrics'] = cleaned['lyrics'].str.replace(\"[-\\?.,\\/#!$%\\^&\\*;:{}=\\_~()]\", ' ')\n",
        "\n",
        "  # remove'\\n' in lyrics\n",
        "  cleaned['lyrics'] = cleaned['lyrics'].apply(lambda x: x.replace('\\n', ' '))\n",
        "\n",
        "  # remove song-related identifiers like [Chorus] or [Verse]\n",
        "  cleaned['lyrics'] = cleaned['lyrics'].str.replace(\"\\[(.*?)\\]\", ' ')\n",
        "  cleaned['lyrics'] = cleaned['lyrics'].str.replace(\"' | '\", ' ')\n",
        "  cleaned['lyrics'] = cleaned['lyrics'].str.replace('x[0-9]+', ' ')\n",
        "\n",
        "  # remove all songs without lyrics (e.g. instrumental pieces)\n",
        "  cleaned = cleaned[cleaned['lyrics'].str.strip().str.lower() != 'instrumental']\n",
        "\n",
        "  # remove any songs with corrupted/non-ASCII characters, unavailable lyrics\n",
        "  cleaned = cleaned[~cleaned['lyrics'].str.contains(r'[^\\x00-\\x7F]+')]\n",
        "  cleaned = cleaned[cleaned['lyrics'].str.strip() != '']\n",
        "  cleaned = cleaned[cleaned['genre'].str.lower() != 'not available']\n",
        "\n",
        "  return cleaned"
      ],
      "execution_count": null,
      "outputs": []
    },
    {
      "cell_type": "code",
      "metadata": {
        "id": "WRckngi8eJsB"
      },
      "source": [
        "def documentNgrams(documents, size):\n",
        "    ngrams_all = []\n",
        "    for document in documents:\n",
        "        tokens = document.split()\n",
        "        if len(tokens) <= size:\n",
        "            continue\n",
        "        else:\n",
        "            output = list(ngrams(tokens, size))\n",
        "        for ngram in output:\n",
        "            ngrams_all.append(\" \".join(ngram))\n",
        "    cnt_ngram = Counter()\n",
        "    for word in ngrams_all:\n",
        "        cnt_ngram[word] += 1\n",
        "    df = pd.DataFrame.from_dict(cnt_ngram, orient='index').reset_index()\n",
        "    df = df.rename(columns={'index':'words', 0:'count'})\n",
        "    df = df.sort_values(by='count', ascending=False)\n",
        "    df = df.head(15)\n",
        "    df = df.sort_values(by='count')\n",
        "    return(df)"
      ],
      "execution_count": null,
      "outputs": []
    },
    {
      "cell_type": "code",
      "metadata": {
        "id": "DeZcqCa6eO9k"
      },
      "source": [
        "def plotNgrams(documents):\n",
        "    # unigrams = documentNgrams(documents, 1)\n",
        "    # bigrams = documentNgrams(documents, 2)\n",
        "    trigrams = documentNgrams(documents, 3)\n",
        "    fourgram = documentNgrams(documents, 4)\n",
        "    fivegrams = documentNgrams(documents, 5)\n",
        "\n",
        "    plt.rcParams['figure.figsize'] = [25.0, 8.0]\n",
        "    plt.rcParams.update({'font.size': 14,})\n",
        "    \n",
        "    # Set plot figure size\n",
        "    fig = plt.figure(figsize = (30, 10))\n",
        "    plt.subplots_adjust(wspace=.5)\n",
        "\n",
        "    ax = fig.add_subplot(131)\n",
        "    ax.barh(np.arange(len(trigrams['words'])), trigrams['count'], align='center', alpha=.5)\n",
        "    ax.set_title('Trigrams')\n",
        "    plt.yticks(np.arange(len(trigrams['words'])), trigrams['words'])\n",
        "    plt.xlabel('Count')\n",
        "\n",
        "    ax2 = fig.add_subplot(132)\n",
        "    ax2.barh(np.arange(len(fourgram['words'])), fourgram['count'], align='center', alpha=.5)\n",
        "    ax2.set_title('Four grams')\n",
        "    plt.yticks(np.arange(len(fourgram['words'])), fourgram['words'])\n",
        "    plt.xlabel('Count')\n",
        "\n",
        "    ax3 = fig.add_subplot(133)\n",
        "    ax3.barh(np.arange(len(fivegrams['words'])), fivegrams['count'], align='center', alpha=.5)\n",
        "    ax3.set_title('Five grams')\n",
        "    plt.yticks(np.arange(len(fivegrams['words'])), fivegrams['words'])\n",
        "    plt.xlabel('Count')\n",
        "\n",
        "    plt.show()"
      ],
      "execution_count": null,
      "outputs": []
    },
    {
      "cell_type": "code",
      "metadata": {
        "colab": {
          "base_uri": "https://localhost:8080/",
          "height": 204
        },
        "id": "4gpmlLS5rB37",
        "outputId": "761610bd-bf6e-4c14-b8d3-512240b7a0d3"
      },
      "source": [
        "cleaned = lyric_preprocessing()\n",
        "cleaned.head()"
      ],
      "execution_count": null,
      "outputs": [
        {
          "output_type": "execute_result",
          "data": {
            "text/html": [
              "<div>\n",
              "<style scoped>\n",
              "    .dataframe tbody tr th:only-of-type {\n",
              "        vertical-align: middle;\n",
              "    }\n",
              "\n",
              "    .dataframe tbody tr th {\n",
              "        vertical-align: top;\n",
              "    }\n",
              "\n",
              "    .dataframe thead th {\n",
              "        text-align: right;\n",
              "    }\n",
              "</style>\n",
              "<table border=\"1\" class=\"dataframe\">\n",
              "  <thead>\n",
              "    <tr style=\"text-align: right;\">\n",
              "      <th></th>\n",
              "      <th>song</th>\n",
              "      <th>year</th>\n",
              "      <th>artist</th>\n",
              "      <th>genre</th>\n",
              "      <th>lyrics</th>\n",
              "    </tr>\n",
              "  </thead>\n",
              "  <tbody>\n",
              "    <tr>\n",
              "      <th>0</th>\n",
              "      <td>ego-remix</td>\n",
              "      <td>2009</td>\n",
              "      <td>beyonce-knowles</td>\n",
              "      <td>Pop</td>\n",
              "      <td>oh baby  how you doing  you know i'm gonna cut...</td>\n",
              "    </tr>\n",
              "    <tr>\n",
              "      <th>1</th>\n",
              "      <td>then-tell-me</td>\n",
              "      <td>2009</td>\n",
              "      <td>beyonce-knowles</td>\n",
              "      <td>Pop</td>\n",
              "      <td>playin everything so easy  it's like you seem ...</td>\n",
              "    </tr>\n",
              "    <tr>\n",
              "      <th>2</th>\n",
              "      <td>honesty</td>\n",
              "      <td>2009</td>\n",
              "      <td>beyonce-knowles</td>\n",
              "      <td>Pop</td>\n",
              "      <td>if you search for tenderness it isn't hard to ...</td>\n",
              "    </tr>\n",
              "    <tr>\n",
              "      <th>3</th>\n",
              "      <td>you-are-my-rock</td>\n",
              "      <td>2009</td>\n",
              "      <td>beyonce-knowles</td>\n",
              "      <td>Pop</td>\n",
              "      <td>oh oh oh i  oh oh oh i   if i wrote a book abo...</td>\n",
              "    </tr>\n",
              "    <tr>\n",
              "      <th>4</th>\n",
              "      <td>black-culture</td>\n",
              "      <td>2009</td>\n",
              "      <td>beyonce-knowles</td>\n",
              "      <td>Pop</td>\n",
              "      <td>party the people  the people the party it's po...</td>\n",
              "    </tr>\n",
              "  </tbody>\n",
              "</table>\n",
              "</div>"
            ],
            "text/plain": [
              "              song  ...                                             lyrics\n",
              "0        ego-remix  ...  oh baby  how you doing  you know i'm gonna cut...\n",
              "1     then-tell-me  ...  playin everything so easy  it's like you seem ...\n",
              "2          honesty  ...  if you search for tenderness it isn't hard to ...\n",
              "3  you-are-my-rock  ...  oh oh oh i  oh oh oh i   if i wrote a book abo...\n",
              "4    black-culture  ...  party the people  the people the party it's po...\n",
              "\n",
              "[5 rows x 5 columns]"
            ]
          },
          "metadata": {
            "tags": []
          },
          "execution_count": 19
        }
      ]
    },
    {
      "cell_type": "code",
      "metadata": {
        "colab": {
          "base_uri": "https://localhost:8080/",
          "height": 651
        },
        "id": "VY_SM3nKeTad",
        "outputId": "c5254fee-868d-4885-a0fb-630525c0b798"
      },
      "source": [
        "plotNgrams(cleaned['lyrics'])\n",
        "\n",
        "gc.collect()"
      ],
      "execution_count": null,
      "outputs": [
        {
          "output_type": "display_data",
          "data": {
            "image/png": "[encoded data removed]",
            "text/plain": [
              "<Figure size 2160x720 with 3 Axes>"
            ]
          },
          "metadata": {
            "tags": [],
            "needs_background": "light"
          }
        },
        {
          "output_type": "execute_result",
          "data": {
            "text/plain": [
              "11077"
            ]
          },
          "metadata": {
            "tags": []
          },
          "execution_count": 20
        }
      ]
    },
    {
      "cell_type": "code",
      "metadata": {
        "colab": {
          "base_uri": "https://localhost:8080/"
        },
        "id": "FgQRvGbTcNZs",
        "outputId": "acbd375f-eae6-4c78-cd4b-2f465c4dc812"
      },
      "source": [
        "from nltk.tokenize import word_tokenize\n",
        "length = []\n",
        "for sent in cleaned.lyrics:\n",
        "    lent = len(word_tokenize(sent))\n",
        "    length.append(lent)\n",
        "\n",
        "gc.collect()"
      ],
      "execution_count": null,
      "outputs": [
        {
          "output_type": "execute_result",
          "data": {
            "text/plain": [
              "53"
            ]
          },
          "metadata": {
            "tags": []
          },
          "execution_count": 21
        }
      ]
    },
    {
      "cell_type": "code",
      "metadata": {
        "colab": {
          "base_uri": "https://localhost:8080/",
          "height": 572
        },
        "id": "pHsjsjUTnZCr",
        "outputId": "0d173be7-e9ad-45a8-d365-a4761161de41"
      },
      "source": [
        "sns.distplot(length)"
      ],
      "execution_count": null,
      "outputs": [
        {
          "output_type": "stream",
          "text": [
            "/usr/local/lib/python3.7/dist-packages/seaborn/distributions.py:2557: FutureWarning:\n",
            "\n",
            "`distplot` is a deprecated function and will be removed in a future version. Please adapt your code to use either `displot` (a figure-level function with similar flexibility) or `histplot` (an axes-level function for histograms).\n",
            "\n"
          ],
          "name": "stderr"
        },
        {
          "output_type": "execute_result",
          "data": {
            "text/plain": [
              "<matplotlib.axes._subplots.AxesSubplot at 0x7ff3e66e6790>"
            ]
          },
          "metadata": {
            "tags": []
          },
          "execution_count": 22
        },
        {
          "output_type": "display_data",
          "data": {
            "image/png": "[encoded data removed]",
            "text/plain": [
              "<Figure size 1800x576 with 1 Axes>"
            ]
          },
          "metadata": {
            "tags": [],
            "needs_background": "light"
          }
        }
      ]
    },
    {
      "cell_type": "code",
      "metadata": {
        "colab": {
          "base_uri": "https://localhost:8080/"
        },
        "id": "zQp5Dx9V8B1B",
        "outputId": "1a3e1db7-0af5-4a05-8868-26759f103d3f"
      },
      "source": [
        "# set max_seq_length to 300, since the average number of tokens per song is 244\n",
        "print('Average number of tokens per song is {0:.0f}'.format(np.mean(length)))"
      ],
      "execution_count": null,
      "outputs": [
        {
          "output_type": "stream",
          "text": [
            "Average number of tokens per song is 244\n"
          ],
          "name": "stdout"
        }
      ]
    },
    {
      "cell_type": "code",
      "metadata": {
        "colab": {
          "base_uri": "https://localhost:8080/",
          "height": 357
        },
        "id": "ctVr2gWDBgoB",
        "outputId": "3246bd37-8b70-4a01-d2ef-aedcf1d4749d"
      },
      "source": [
        "# add word count per song\n",
        "cleaned['word_count'] = cleaned['lyrics'].str.split().str.len()\n",
        "print(cleaned['word_count'].describe())\n",
        "cleaned.head()"
      ],
      "execution_count": null,
      "outputs": [
        {
          "output_type": "stream",
          "text": [
            "count    227436.000000\n",
            "mean        231.289435\n",
            "std         156.905544\n",
            "min           1.000000\n",
            "25%         132.000000\n",
            "50%         193.000000\n",
            "75%         281.000000\n",
            "max        6210.000000\n",
            "Name: word_count, dtype: float64\n"
          ],
          "name": "stdout"
        },
        {
          "output_type": "execute_result",
          "data": {
            "text/html": [
              "<div>\n",
              "<style scoped>\n",
              "    .dataframe tbody tr th:only-of-type {\n",
              "        vertical-align: middle;\n",
              "    }\n",
              "\n",
              "    .dataframe tbody tr th {\n",
              "        vertical-align: top;\n",
              "    }\n",
              "\n",
              "    .dataframe thead th {\n",
              "        text-align: right;\n",
              "    }\n",
              "</style>\n",
              "<table border=\"1\" class=\"dataframe\">\n",
              "  <thead>\n",
              "    <tr style=\"text-align: right;\">\n",
              "      <th></th>\n",
              "      <th>song</th>\n",
              "      <th>year</th>\n",
              "      <th>artist</th>\n",
              "      <th>genre</th>\n",
              "      <th>lyrics</th>\n",
              "      <th>word_count</th>\n",
              "    </tr>\n",
              "  </thead>\n",
              "  <tbody>\n",
              "    <tr>\n",
              "      <th>0</th>\n",
              "      <td>ego-remix</td>\n",
              "      <td>2009</td>\n",
              "      <td>beyonce-knowles</td>\n",
              "      <td>Pop</td>\n",
              "      <td>oh baby  how you doing  you know i'm gonna cut...</td>\n",
              "      <td>433</td>\n",
              "    </tr>\n",
              "    <tr>\n",
              "      <th>1</th>\n",
              "      <td>then-tell-me</td>\n",
              "      <td>2009</td>\n",
              "      <td>beyonce-knowles</td>\n",
              "      <td>Pop</td>\n",
              "      <td>playin everything so easy  it's like you seem ...</td>\n",
              "      <td>258</td>\n",
              "    </tr>\n",
              "    <tr>\n",
              "      <th>2</th>\n",
              "      <td>honesty</td>\n",
              "      <td>2009</td>\n",
              "      <td>beyonce-knowles</td>\n",
              "      <td>Pop</td>\n",
              "      <td>if you search for tenderness it isn't hard to ...</td>\n",
              "      <td>170</td>\n",
              "    </tr>\n",
              "    <tr>\n",
              "      <th>3</th>\n",
              "      <td>you-are-my-rock</td>\n",
              "      <td>2009</td>\n",
              "      <td>beyonce-knowles</td>\n",
              "      <td>Pop</td>\n",
              "      <td>oh oh oh i  oh oh oh i   if i wrote a book abo...</td>\n",
              "      <td>514</td>\n",
              "    </tr>\n",
              "    <tr>\n",
              "      <th>4</th>\n",
              "      <td>black-culture</td>\n",
              "      <td>2009</td>\n",
              "      <td>beyonce-knowles</td>\n",
              "      <td>Pop</td>\n",
              "      <td>party the people  the people the party it's po...</td>\n",
              "      <td>312</td>\n",
              "    </tr>\n",
              "  </tbody>\n",
              "</table>\n",
              "</div>"
            ],
            "text/plain": [
              "              song  ...  word_count\n",
              "0        ego-remix  ...         433\n",
              "1     then-tell-me  ...         258\n",
              "2          honesty  ...         170\n",
              "3  you-are-my-rock  ...         514\n",
              "4    black-culture  ...         312\n",
              "\n",
              "[5 rows x 6 columns]"
            ]
          },
          "metadata": {
            "tags": []
          },
          "execution_count": 24
        }
      ]
    },
    {
      "cell_type": "code",
      "metadata": {
        "colab": {
          "base_uri": "https://localhost:8080/"
        },
        "id": "RO_5NBNnCDzA",
        "outputId": "14643710-896e-44a9-80d9-3eb0ad05b7f5"
      },
      "source": [
        "# summary of samples per genre\n",
        "cleaned.genre.value_counts()"
      ],
      "execution_count": null,
      "outputs": [
        {
          "output_type": "execute_result",
          "data": {
            "text/plain": [
              "Rock          104128\n",
              "Pop            36439\n",
              "Hip-Hop        23215\n",
              "Metal          22417\n",
              "Country        14182\n",
              "Jazz            7520\n",
              "Electronic      7230\n",
              "Other           3989\n",
              "R&B             3354\n",
              "Indie           2970\n",
              "Folk            1992\n",
              "Name: genre, dtype: int64"
            ]
          },
          "metadata": {
            "tags": []
          },
          "execution_count": 25
        }
      ]
    },
    {
      "cell_type": "code",
      "metadata": {
        "colab": {
          "base_uri": "https://localhost:8080/"
        },
        "id": "dbK9rvAADHCn",
        "outputId": "89099c33-a188-4d4f-f243-9e968cb8ae8b"
      },
      "source": [
        "# unique artists in dataset\n",
        "cleaned.artist.nunique()"
      ],
      "execution_count": null,
      "outputs": [
        {
          "output_type": "execute_result",
          "data": {
            "text/plain": [
              "11117"
            ]
          },
          "metadata": {
            "tags": []
          },
          "execution_count": 26
        }
      ]
    },
    {
      "cell_type": "code",
      "metadata": {
        "colab": {
          "base_uri": "https://localhost:8080/"
        },
        "id": "pcmNlwFZFg7M",
        "outputId": "bdcec1d4-b339-4ce6-e077-bdcb7bff1084"
      },
      "source": [
        "# quantile word count\n",
        "cleaned['word_count'].quantile(.01)"
      ],
      "execution_count": null,
      "outputs": [
        {
          "output_type": "execute_result",
          "data": {
            "text/plain": [
              "21.0"
            ]
          },
          "metadata": {
            "tags": []
          },
          "execution_count": 27
        }
      ]
    },
    {
      "cell_type": "code",
      "metadata": {
        "colab": {
          "base_uri": "https://localhost:8080/"
        },
        "id": "1oOvjYFEC5Nv",
        "outputId": "0ffcd872-9b70-4cb6-e5d4-682fbabe97d3"
      },
      "source": [
        "# quantile word count\n",
        "cleaned['word_count'].quantile(.99)"
      ],
      "execution_count": null,
      "outputs": [
        {
          "output_type": "execute_result",
          "data": {
            "text/plain": [
              "800.0"
            ]
          },
          "metadata": {
            "tags": []
          },
          "execution_count": 28
        }
      ]
    },
    {
      "cell_type": "code",
      "metadata": {
        "colab": {
          "base_uri": "https://localhost:8080/",
          "height": 204
        },
        "id": "DxfXXdcRDGOs",
        "outputId": "cd1d7137-056b-49af-a7db-8a8227db3b8d"
      },
      "source": [
        "# retain songs with lyrics >= 20 and <= 800 word count \n",
        "cleaned_df = cleaned[cleaned['word_count'] >= 20]\n",
        "cleaned_df = cleaned_df[cleaned_df['word_count'] <= 800]\n",
        "cleaned_df.head()"
      ],
      "execution_count": null,
      "outputs": [
        {
          "output_type": "execute_result",
          "data": {
            "text/html": [
              "<div>\n",
              "<style scoped>\n",
              "    .dataframe tbody tr th:only-of-type {\n",
              "        vertical-align: middle;\n",
              "    }\n",
              "\n",
              "    .dataframe tbody tr th {\n",
              "        vertical-align: top;\n",
              "    }\n",
              "\n",
              "    .dataframe thead th {\n",
              "        text-align: right;\n",
              "    }\n",
              "</style>\n",
              "<table border=\"1\" class=\"dataframe\">\n",
              "  <thead>\n",
              "    <tr style=\"text-align: right;\">\n",
              "      <th></th>\n",
              "      <th>song</th>\n",
              "      <th>year</th>\n",
              "      <th>artist</th>\n",
              "      <th>genre</th>\n",
              "      <th>lyrics</th>\n",
              "      <th>word_count</th>\n",
              "    </tr>\n",
              "  </thead>\n",
              "  <tbody>\n",
              "    <tr>\n",
              "      <th>0</th>\n",
              "      <td>ego-remix</td>\n",
              "      <td>2009</td>\n",
              "      <td>beyonce-knowles</td>\n",
              "      <td>Pop</td>\n",
              "      <td>oh baby  how you doing  you know i'm gonna cut...</td>\n",
              "      <td>433</td>\n",
              "    </tr>\n",
              "    <tr>\n",
              "      <th>1</th>\n",
              "      <td>then-tell-me</td>\n",
              "      <td>2009</td>\n",
              "      <td>beyonce-knowles</td>\n",
              "      <td>Pop</td>\n",
              "      <td>playin everything so easy  it's like you seem ...</td>\n",
              "      <td>258</td>\n",
              "    </tr>\n",
              "    <tr>\n",
              "      <th>2</th>\n",
              "      <td>honesty</td>\n",
              "      <td>2009</td>\n",
              "      <td>beyonce-knowles</td>\n",
              "      <td>Pop</td>\n",
              "      <td>if you search for tenderness it isn't hard to ...</td>\n",
              "      <td>170</td>\n",
              "    </tr>\n",
              "    <tr>\n",
              "      <th>3</th>\n",
              "      <td>you-are-my-rock</td>\n",
              "      <td>2009</td>\n",
              "      <td>beyonce-knowles</td>\n",
              "      <td>Pop</td>\n",
              "      <td>oh oh oh i  oh oh oh i   if i wrote a book abo...</td>\n",
              "      <td>514</td>\n",
              "    </tr>\n",
              "    <tr>\n",
              "      <th>4</th>\n",
              "      <td>black-culture</td>\n",
              "      <td>2009</td>\n",
              "      <td>beyonce-knowles</td>\n",
              "      <td>Pop</td>\n",
              "      <td>party the people  the people the party it's po...</td>\n",
              "      <td>312</td>\n",
              "    </tr>\n",
              "  </tbody>\n",
              "</table>\n",
              "</div>"
            ],
            "text/plain": [
              "              song  ...  word_count\n",
              "0        ego-remix  ...         433\n",
              "1     then-tell-me  ...         258\n",
              "2          honesty  ...         170\n",
              "3  you-are-my-rock  ...         514\n",
              "4    black-culture  ...         312\n",
              "\n",
              "[5 rows x 6 columns]"
            ]
          },
          "metadata": {
            "tags": []
          },
          "execution_count": 32
        }
      ]
    },
    {
      "cell_type": "code",
      "metadata": {
        "colab": {
          "base_uri": "https://localhost:8080/"
        },
        "id": "uk5HALgjGWbe",
        "outputId": "b34de08e-1fa2-4c87-c0bb-5b0f6639a8a2"
      },
      "source": [
        "# remove songs that did not fit the word count criteria\n",
        "cleaned_df.shape"
      ],
      "execution_count": null,
      "outputs": [
        {
          "output_type": "execute_result",
          "data": {
            "text/plain": [
              "(223040, 6)"
            ]
          },
          "metadata": {
            "tags": []
          },
          "execution_count": 33
        }
      ]
    },
    {
      "cell_type": "code",
      "metadata": {
        "colab": {
          "base_uri": "https://localhost:8080/",
          "height": 507
        },
        "id": "7dDaWmAFL5k0",
        "outputId": "f35f3681-a909-46d9-9a74-7e9635f5dfaf"
      },
      "source": [
        "# plot average word count distribution\n",
        "cleaned_df['lyrics'].apply(lambda x: len(x.split())).plot(kind='hist', ec='black');\n",
        "# plt.yscale('log');\n",
        "plt.title('Frequency of Word Count')\n",
        "plt.show()"
      ],
      "execution_count": null,
      "outputs": [
        {
          "output_type": "display_data",
          "data": {
            "image/png": "[encoded data removed]",
            "text/plain": [
              "<Figure size 1800x576 with 1 Axes>"
            ]
          },
          "metadata": {
            "tags": [],
            "needs_background": "light"
          }
        }
      ]
    },
    {
      "cell_type": "code",
      "metadata": {
        "colab": {
          "base_uri": "https://localhost:8080/",
          "height": 204
        },
        "id": "9KEIe_qaGyXw",
        "outputId": "9d4bedfd-ed73-4476-cba7-43e6d2ece441"
      },
      "source": [
        "cleaned_df.drop([\"word_count\"],axis=1,inplace=True)\n",
        "cleaned_df.head()"
      ],
      "execution_count": null,
      "outputs": [
        {
          "output_type": "execute_result",
          "data": {
            "text/html": [
              "<div>\n",
              "<style scoped>\n",
              "    .dataframe tbody tr th:only-of-type {\n",
              "        vertical-align: middle;\n",
              "    }\n",
              "\n",
              "    .dataframe tbody tr th {\n",
              "        vertical-align: top;\n",
              "    }\n",
              "\n",
              "    .dataframe thead th {\n",
              "        text-align: right;\n",
              "    }\n",
              "</style>\n",
              "<table border=\"1\" class=\"dataframe\">\n",
              "  <thead>\n",
              "    <tr style=\"text-align: right;\">\n",
              "      <th></th>\n",
              "      <th>song</th>\n",
              "      <th>year</th>\n",
              "      <th>artist</th>\n",
              "      <th>genre</th>\n",
              "      <th>lyrics</th>\n",
              "    </tr>\n",
              "  </thead>\n",
              "  <tbody>\n",
              "    <tr>\n",
              "      <th>0</th>\n",
              "      <td>ego-remix</td>\n",
              "      <td>2009</td>\n",
              "      <td>beyonce-knowles</td>\n",
              "      <td>Pop</td>\n",
              "      <td>oh baby  how you doing  you know i'm gonna cut...</td>\n",
              "    </tr>\n",
              "    <tr>\n",
              "      <th>1</th>\n",
              "      <td>then-tell-me</td>\n",
              "      <td>2009</td>\n",
              "      <td>beyonce-knowles</td>\n",
              "      <td>Pop</td>\n",
              "      <td>playin everything so easy  it's like you seem ...</td>\n",
              "    </tr>\n",
              "    <tr>\n",
              "      <th>2</th>\n",
              "      <td>honesty</td>\n",
              "      <td>2009</td>\n",
              "      <td>beyonce-knowles</td>\n",
              "      <td>Pop</td>\n",
              "      <td>if you search for tenderness it isn't hard to ...</td>\n",
              "    </tr>\n",
              "    <tr>\n",
              "      <th>3</th>\n",
              "      <td>you-are-my-rock</td>\n",
              "      <td>2009</td>\n",
              "      <td>beyonce-knowles</td>\n",
              "      <td>Pop</td>\n",
              "      <td>oh oh oh i  oh oh oh i   if i wrote a book abo...</td>\n",
              "    </tr>\n",
              "    <tr>\n",
              "      <th>4</th>\n",
              "      <td>black-culture</td>\n",
              "      <td>2009</td>\n",
              "      <td>beyonce-knowles</td>\n",
              "      <td>Pop</td>\n",
              "      <td>party the people  the people the party it's po...</td>\n",
              "    </tr>\n",
              "  </tbody>\n",
              "</table>\n",
              "</div>"
            ],
            "text/plain": [
              "              song  ...                                             lyrics\n",
              "0        ego-remix  ...  oh baby  how you doing  you know i'm gonna cut...\n",
              "1     then-tell-me  ...  playin everything so easy  it's like you seem ...\n",
              "2          honesty  ...  if you search for tenderness it isn't hard to ...\n",
              "3  you-are-my-rock  ...  oh oh oh i  oh oh oh i   if i wrote a book abo...\n",
              "4    black-culture  ...  party the people  the people the party it's po...\n",
              "\n",
              "[5 rows x 5 columns]"
            ]
          },
          "metadata": {
            "tags": []
          },
          "execution_count": 31
        }
      ]
    },
    {
      "cell_type": "code",
      "metadata": {
        "id": "zd-SUkBT8uE9"
      },
      "source": [
        "# save cleaned file to csv for posterity\n",
        "cleaned_df.to_csv('cleaned_lyrics_final3.csv')"
      ],
      "execution_count": null,
      "outputs": []
    },
    {
      "cell_type": "code",
      "metadata": {
        "colab": {
          "base_uri": "https://localhost:8080/"
        },
        "id": "dzX5sE_1NU6J",
        "outputId": "f73539c8-9727-4fcf-af91-2c9f9ec4dded"
      },
      "source": [
        "from google.colab import drive\n",
        "drive.mount('/content/drive')"
      ],
      "execution_count": null,
      "outputs": [
        {
          "output_type": "stream",
          "text": [
            "Drive already mounted at /content/drive; to attempt to forcibly remount, call drive.mount(\"/content/drive\", force_remount=True).\n"
          ],
          "name": "stdout"
        }
      ]
    }
  ]
}